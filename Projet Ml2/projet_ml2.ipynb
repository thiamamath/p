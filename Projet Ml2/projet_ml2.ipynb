{
 "cells": [
  {
   "cell_type": "markdown",
   "id": "eece233f-63ef-4f3e-9a35-89b46ed83377",
   "metadata": {},
   "source": [
    "## INTRODUCTION"
   ]
  },
  {
   "cell_type": "markdown",
   "id": "ecaa5b76-b077-4afd-aab3-7fd15c9cfb16",
   "metadata": {},
   "source": [
    "Nous sommes analystes marketing chez Books Online, une importante librairie en ligne spécialisée dans les livres\r\n",
    "d'occasion. Dans le cadre denvos fonctions,nvous essaonsz de suivre manuellement les prix des livres d'occasion sur\r\n",
    "les sites web de vos concurrents, mais cela représente trop de travail en vous n'arronsez pas à y faire face : il y a\r\n",
    "trop de livres et trop de librairies en ligneN! Vous nt votre équipeonsvez décidé d'automatiser cette tâche laborie se\r\n",
    "via un programme (un scraper) développé en Python, capable d'extraire les informations tarifaires d'au res\r\n",
    "librairies en liNous sommess êtes schargé de développer une version bêta de ce système pour suivre les prix des livres chez Books to\r\n",
    "Scrape, un revendeur de livres encessaires"
   ]
  },
  {
   "cell_type": "markdown",
   "id": "58265722-9ae7-4ea7-84bc-4054b7366f47",
   "metadata": {},
   "source": [
    "## 1. LIBRAIRIES"
   ]
  },
  {
   "cell_type": "markdown",
   "id": "be6e4f2f-07e0-42bb-94eb-845c411a2560",
   "metadata": {},
   "source": [
    "Mais tout d'abord, nous allons importer les libraries qui nous seront nécessaires"
   ]
  },
  {
   "cell_type": "code",
   "execution_count": 246,
   "id": "f328c33b-11ec-427f-bbba-76f3e9cbbbb3",
   "metadata": {},
   "outputs": [],
   "source": [
    "#Insertion de toutes les librairies que nous utiliserons\n",
    "import pandas as pd\n",
    "import requests\n",
    "from bs4 import BeautifulSoup\n",
    "import re"
   ]
  },
  {
   "cell_type": "markdown",
   "id": "1cec54be-5b23-4b20-b53c-8c4cc82402e6",
   "metadata": {},
   "source": [
    "## 2. PARTIE SCRAPING"
   ]
  },
  {
   "cell_type": "markdown",
   "id": "a108bb66-b102-44b5-b9fd-f1ce4521cf7a",
   "metadata": {},
   "source": [
    "Nous allons maintenant récupérer la liste de tous les livres qui sont dans le site.\n",
    "Vu aue tout le travail a été regroupé dans une seule cellule nous allons d'abord expliquer en détail le contenu du code. \n",
    "\n",
    "#### 2.1. Création de fonction pour extraire les données d'une page\n",
    "\n",
    "Une fonction get_page_data() permettra de recueillir les données d'une page du site concurrent. Elle prend en argument l'URL de la fenêtre en question et récupére l'ensembles des classes concernant les livres.\n",
    "\n",
    "Par la suite, elle crée une base vide \"livres\" qui gardera les informations recueillies. Les informations seront le titre, le prix (ainsi que la devise), la note (l'évaluation) et la disponibilté du livre, tout cela en receuillant l'ensemble des classes correspondant à chaque information. \n",
    "\n",
    "#### 2.2. Création de la fonction principale pour le scraping\n",
    "\n",
    "Avant cela, nous avons gardé dans une variable l'url de la page d'acceuil. Nous avons également crée la base vide qui contiendra la totalité des livres du site.\n",
    "\n",
    "Ensuite nous recupérons les informations de la page d'acceuil afin d'y plonger et récupérer la liste de l'ensemble des catégories existantes dans ce site. \n",
    "\n",
    "Après avoir obtenu la liste nous commençons par éliminer la catégorie Books qui n'est pas une catégorie en soit, puis nous nous plaçcons au niveau de la page de la 1ère catégorie. Le lien de cette catégorie a été formée en étudiant la configuration des liens pour chaque catégorie qui suit une certaine logique. Par la suite nous avons utilisé la fonction permettant de récupérer les données d'une page puis nous avons ajouté ces informations dans la base \"tous_les_livres\". Nous formons ensuite le lien de la page suivante vu que la configuration de celle ci suit également une certaine logique, puis nous utilisons ce lien pour refaire le même processus que la page précédente en donnant le nouveau lien obtenu. \n",
    "\n",
    "Certains contrôles ont été fait afin de de permettre des changements de pages fluides et des liens corrects.\n",
    "\n",
    "Après quoi, nous passons à la catégorie suivante et nous reprenons le même processus jusqu'à parcourir toute la liste des catégories.\n",
    "\n",
    "Le code se présente comme suit:\n"
   ]
  },
  {
   "cell_type": "code",
   "execution_count": 236,
   "id": "db9ea3bd-fc0c-40c6-88b5-32d955eeafa0",
   "metadata": {
    "scrolled": true
   },
   "outputs": [
    {
     "name": "stderr",
     "output_type": "stream",
     "text": [
      "2023-07-26 20:45:30 [urllib3.connectionpool] DEBUG: Starting new HTTP connection (1): books.toscrape.com:80\n",
      "2023-07-26 20:45:31 [urllib3.connectionpool] DEBUG: http://books.toscrape.com:80 \"GET /catalogue/page-1.html HTTP/1.1\" 200 50469\n",
      "2023-07-26 20:45:31 [urllib3.connectionpool] DEBUG: Starting new HTTP connection (1): books.toscrape.com:80\n"
     ]
    },
    {
     "name": "stdout",
     "output_type": "stream",
     "text": [
      "travel\n"
     ]
    },
    {
     "name": "stderr",
     "output_type": "stream",
     "text": [
      "2023-07-26 20:45:32 [urllib3.connectionpool] DEBUG: http://books.toscrape.com:80 \"GET /catalogue/category/books/travel_2/index.html HTTP/1.1\" 200 37009\n",
      "2023-07-26 20:45:32 [urllib3.connectionpool] DEBUG: Starting new HTTP connection (1): books.toscrape.com:80\n",
      "2023-07-26 20:45:32 [urllib3.connectionpool] DEBUG: http://books.toscrape.com:80 \"GET /catalogue/category/books/travel_2/index.html HTTP/1.1\" 200 37009\n",
      "2023-07-26 20:45:33 [urllib3.connectionpool] DEBUG: Starting new HTTP connection (1): books.toscrape.com:80\n"
     ]
    },
    {
     "name": "stdout",
     "output_type": "stream",
     "text": [
      "mystery\n"
     ]
    },
    {
     "name": "stderr",
     "output_type": "stream",
     "text": [
      "2023-07-26 20:45:33 [urllib3.connectionpool] DEBUG: http://books.toscrape.com:80 \"GET /catalogue/category/books/mystery_3/index.html HTTP/1.1\" 200 50388\n",
      "2023-07-26 20:45:33 [urllib3.connectionpool] DEBUG: Starting new HTTP connection (1): books.toscrape.com:80\n",
      "2023-07-26 20:45:34 [urllib3.connectionpool] DEBUG: http://books.toscrape.com:80 \"GET /catalogue/category/books/mystery_3/index.html HTTP/1.1\" 200 50388\n",
      "2023-07-26 20:45:34 [urllib3.connectionpool] DEBUG: Starting new HTTP connection (1): books.toscrape.com:80\n",
      "2023-07-26 20:45:34 [urllib3.connectionpool] DEBUG: http://books.toscrape.com:80 \"GET /catalogue/category/books/mystery_3/page-2.html HTTP/1.1\" 200 38533\n",
      "2023-07-26 20:45:35 [urllib3.connectionpool] DEBUG: Starting new HTTP connection (1): books.toscrape.com:80\n",
      "2023-07-26 20:45:35 [urllib3.connectionpool] DEBUG: http://books.toscrape.com:80 \"GET /catalogue/category/books/mystery_3/page-2.html HTTP/1.1\" 200 38533\n",
      "2023-07-26 20:45:35 [urllib3.connectionpool] DEBUG: Starting new HTTP connection (1): books.toscrape.com:80\n"
     ]
    },
    {
     "name": "stdout",
     "output_type": "stream",
     "text": [
      "historical-fiction\n"
     ]
    },
    {
     "name": "stderr",
     "output_type": "stream",
     "text": [
      "2023-07-26 20:45:36 [urllib3.connectionpool] DEBUG: http://books.toscrape.com:80 \"GET /catalogue/category/books/historical-fiction_4/index.html HTTP/1.1\" 200 50109\n",
      "2023-07-26 20:45:36 [urllib3.connectionpool] DEBUG: Starting new HTTP connection (1): books.toscrape.com:80\n",
      "2023-07-26 20:45:37 [urllib3.connectionpool] DEBUG: http://books.toscrape.com:80 \"GET /catalogue/category/books/historical-fiction_4/index.html HTTP/1.1\" 200 50109\n",
      "2023-07-26 20:45:37 [urllib3.connectionpool] DEBUG: Starting new HTTP connection (1): books.toscrape.com:80\n",
      "2023-07-26 20:45:37 [urllib3.connectionpool] DEBUG: http://books.toscrape.com:80 \"GET /catalogue/category/books/historical-fiction_4/page-2.html HTTP/1.1\" 200 29015\n",
      "2023-07-26 20:45:38 [urllib3.connectionpool] DEBUG: Starting new HTTP connection (1): books.toscrape.com:80\n",
      "2023-07-26 20:45:38 [urllib3.connectionpool] DEBUG: http://books.toscrape.com:80 \"GET /catalogue/category/books/historical-fiction_4/page-2.html HTTP/1.1\" 200 29015\n",
      "2023-07-26 20:45:38 [urllib3.connectionpool] DEBUG: Starting new HTTP connection (1): books.toscrape.com:80\n"
     ]
    },
    {
     "name": "stdout",
     "output_type": "stream",
     "text": [
      "sequential-art\n"
     ]
    },
    {
     "name": "stderr",
     "output_type": "stream",
     "text": [
      "2023-07-26 20:45:39 [urllib3.connectionpool] DEBUG: http://books.toscrape.com:80 \"GET /catalogue/category/books/sequential-art_5/index.html HTTP/1.1\" 200 51455\n",
      "2023-07-26 20:45:39 [urllib3.connectionpool] DEBUG: Starting new HTTP connection (1): books.toscrape.com:80\n",
      "2023-07-26 20:45:39 [urllib3.connectionpool] DEBUG: http://books.toscrape.com:80 \"GET /catalogue/category/books/sequential-art_5/index.html HTTP/1.1\" 200 51455\n",
      "2023-07-26 20:45:40 [urllib3.connectionpool] DEBUG: Starting new HTTP connection (1): books.toscrape.com:80\n",
      "2023-07-26 20:45:40 [urllib3.connectionpool] DEBUG: http://books.toscrape.com:80 \"GET /catalogue/category/books/sequential-art_5/page-2.html HTTP/1.1\" 200 51165\n",
      "2023-07-26 20:45:41 [urllib3.connectionpool] DEBUG: Starting new HTTP connection (1): books.toscrape.com:80\n",
      "2023-07-26 20:45:41 [urllib3.connectionpool] DEBUG: http://books.toscrape.com:80 \"GET /catalogue/category/books/sequential-art_5/page-2.html HTTP/1.1\" 200 51165\n",
      "2023-07-26 20:45:42 [urllib3.connectionpool] DEBUG: Starting new HTTP connection (1): books.toscrape.com:80\n",
      "2023-07-26 20:45:42 [urllib3.connectionpool] DEBUG: http://books.toscrape.com:80 \"GET /catalogue/category/books/sequential-art_5/page-3.html HTTP/1.1\" 200 51392\n",
      "2023-07-26 20:45:42 [urllib3.connectionpool] DEBUG: Starting new HTTP connection (1): books.toscrape.com:80\n",
      "2023-07-26 20:45:43 [urllib3.connectionpool] DEBUG: http://books.toscrape.com:80 \"GET /catalogue/category/books/sequential-art_5/page-3.html HTTP/1.1\" 200 51392\n",
      "2023-07-26 20:45:43 [urllib3.connectionpool] DEBUG: Starting new HTTP connection (1): books.toscrape.com:80\n",
      "2023-07-26 20:45:44 [urllib3.connectionpool] DEBUG: http://books.toscrape.com:80 \"GET /catalogue/category/books/sequential-art_5/page-4.html HTTP/1.1\" 200 43840\n",
      "2023-07-26 20:45:44 [urllib3.connectionpool] DEBUG: Starting new HTTP connection (1): books.toscrape.com:80\n",
      "2023-07-26 20:45:44 [urllib3.connectionpool] DEBUG: http://books.toscrape.com:80 \"GET /catalogue/category/books/sequential-art_5/page-4.html HTTP/1.1\" 200 43840\n",
      "2023-07-26 20:45:45 [urllib3.connectionpool] DEBUG: Starting new HTTP connection (1): books.toscrape.com:80\n"
     ]
    },
    {
     "name": "stdout",
     "output_type": "stream",
     "text": [
      "classics\n"
     ]
    },
    {
     "name": "stderr",
     "output_type": "stream",
     "text": [
      "2023-07-26 20:45:45 [urllib3.connectionpool] DEBUG: http://books.toscrape.com:80 \"GET /catalogue/category/books/classics_6/index.html HTTP/1.1\" 200 47874\n",
      "2023-07-26 20:45:46 [urllib3.connectionpool] DEBUG: Starting new HTTP connection (1): books.toscrape.com:80\n",
      "2023-07-26 20:45:46 [urllib3.connectionpool] DEBUG: http://books.toscrape.com:80 \"GET /catalogue/category/books/classics_6/index.html HTTP/1.1\" 200 47874\n",
      "2023-07-26 20:45:46 [urllib3.connectionpool] DEBUG: Starting new HTTP connection (1): books.toscrape.com:80\n"
     ]
    },
    {
     "name": "stdout",
     "output_type": "stream",
     "text": [
      "philosophy\n"
     ]
    },
    {
     "name": "stderr",
     "output_type": "stream",
     "text": [
      "2023-07-26 20:45:47 [urllib3.connectionpool] DEBUG: http://books.toscrape.com:80 \"GET /catalogue/category/books/philosophy_7/index.html HTTP/1.1\" 200 37032\n",
      "2023-07-26 20:45:47 [urllib3.connectionpool] DEBUG: Starting new HTTP connection (1): books.toscrape.com:80\n",
      "2023-07-26 20:45:47 [urllib3.connectionpool] DEBUG: http://books.toscrape.com:80 \"GET /catalogue/category/books/philosophy_7/index.html HTTP/1.1\" 200 37032\n",
      "2023-07-26 20:45:48 [urllib3.connectionpool] DEBUG: Starting new HTTP connection (1): books.toscrape.com:80\n"
     ]
    },
    {
     "name": "stdout",
     "output_type": "stream",
     "text": [
      "romance\n"
     ]
    },
    {
     "name": "stderr",
     "output_type": "stream",
     "text": [
      "2023-07-26 20:45:48 [urllib3.connectionpool] DEBUG: http://books.toscrape.com:80 \"GET /catalogue/category/books/romance_8/index.html HTTP/1.1\" 200 50397\n",
      "2023-07-26 20:45:48 [urllib3.connectionpool] DEBUG: Starting new HTTP connection (1): books.toscrape.com:80\n",
      "2023-07-26 20:45:49 [urllib3.connectionpool] DEBUG: http://books.toscrape.com:80 \"GET /catalogue/category/books/romance_8/index.html HTTP/1.1\" 200 50397\n",
      "2023-07-26 20:45:49 [urllib3.connectionpool] DEBUG: Starting new HTTP connection (1): books.toscrape.com:80\n",
      "2023-07-26 20:45:50 [urllib3.connectionpool] DEBUG: http://books.toscrape.com:80 \"GET /catalogue/category/books/romance_8/page-2.html HTTP/1.1\" 200 42636\n",
      "2023-07-26 20:45:50 [urllib3.connectionpool] DEBUG: Starting new HTTP connection (1): books.toscrape.com:80\n",
      "2023-07-26 20:45:51 [urllib3.connectionpool] DEBUG: http://books.toscrape.com:80 \"GET /catalogue/category/books/romance_8/page-2.html HTTP/1.1\" 200 42636\n",
      "2023-07-26 20:45:51 [urllib3.connectionpool] DEBUG: Starting new HTTP connection (1): books.toscrape.com:80\n"
     ]
    },
    {
     "name": "stdout",
     "output_type": "stream",
     "text": [
      "womens-fiction\n"
     ]
    },
    {
     "name": "stderr",
     "output_type": "stream",
     "text": [
      "2023-07-26 20:45:51 [urllib3.connectionpool] DEBUG: http://books.toscrape.com:80 \"GET /catalogue/category/books/womens-fiction_9/index.html HTTP/1.1\" 200 45308\n",
      "2023-07-26 20:45:52 [urllib3.connectionpool] DEBUG: Starting new HTTP connection (1): books.toscrape.com:80\n",
      "2023-07-26 20:45:52 [urllib3.connectionpool] DEBUG: http://books.toscrape.com:80 \"GET /catalogue/category/books/womens-fiction_9/index.html HTTP/1.1\" 200 45308\n",
      "2023-07-26 20:45:53 [urllib3.connectionpool] DEBUG: Starting new HTTP connection (1): books.toscrape.com:80\n"
     ]
    },
    {
     "name": "stdout",
     "output_type": "stream",
     "text": [
      "fiction\n"
     ]
    },
    {
     "name": "stderr",
     "output_type": "stream",
     "text": [
      "2023-07-26 20:45:53 [urllib3.connectionpool] DEBUG: http://books.toscrape.com:80 \"GET /catalogue/category/books/fiction_10/index.html HTTP/1.1\" 200 49677\n",
      "2023-07-26 20:45:53 [urllib3.connectionpool] DEBUG: Starting new HTTP connection (1): books.toscrape.com:80\n",
      "2023-07-26 20:45:54 [urllib3.connectionpool] DEBUG: http://books.toscrape.com:80 \"GET /catalogue/category/books/fiction_10/index.html HTTP/1.1\" 200 49677\n",
      "2023-07-26 20:45:54 [urllib3.connectionpool] DEBUG: Starting new HTTP connection (1): books.toscrape.com:80\n",
      "2023-07-26 20:45:55 [urllib3.connectionpool] DEBUG: http://books.toscrape.com:80 \"GET /catalogue/category/books/fiction_10/page-2.html HTTP/1.1\" 200 49510\n",
      "2023-07-26 20:45:55 [urllib3.connectionpool] DEBUG: Starting new HTTP connection (1): books.toscrape.com:80\n",
      "2023-07-26 20:45:56 [urllib3.connectionpool] DEBUG: http://books.toscrape.com:80 \"GET /catalogue/category/books/fiction_10/page-2.html HTTP/1.1\" 200 49510\n",
      "2023-07-26 20:45:56 [urllib3.connectionpool] DEBUG: Starting new HTTP connection (1): books.toscrape.com:80\n",
      "2023-07-26 20:45:56 [urllib3.connectionpool] DEBUG: http://books.toscrape.com:80 \"GET /catalogue/category/books/fiction_10/page-3.html HTTP/1.1\" 200 49453\n",
      "2023-07-26 20:45:57 [urllib3.connectionpool] DEBUG: Starting new HTTP connection (1): books.toscrape.com:80\n",
      "2023-07-26 20:45:57 [urllib3.connectionpool] DEBUG: http://books.toscrape.com:80 \"GET /catalogue/category/books/fiction_10/page-3.html HTTP/1.1\" 200 49453\n",
      "2023-07-26 20:45:57 [urllib3.connectionpool] DEBUG: Starting new HTTP connection (1): books.toscrape.com:80\n",
      "2023-07-26 20:45:58 [urllib3.connectionpool] DEBUG: http://books.toscrape.com:80 \"GET /catalogue/category/books/fiction_10/page-4.html HTTP/1.1\" 200 27424\n",
      "2023-07-26 20:45:58 [urllib3.connectionpool] DEBUG: Starting new HTTP connection (1): books.toscrape.com:80\n",
      "2023-07-26 20:45:58 [urllib3.connectionpool] DEBUG: http://books.toscrape.com:80 \"GET /catalogue/category/books/fiction_10/page-4.html HTTP/1.1\" 200 27424\n",
      "2023-07-26 20:45:59 [urllib3.connectionpool] DEBUG: Starting new HTTP connection (1): books.toscrape.com:80\n"
     ]
    },
    {
     "name": "stdout",
     "output_type": "stream",
     "text": [
      "childrens\n"
     ]
    },
    {
     "name": "stderr",
     "output_type": "stream",
     "text": [
      "2023-07-26 20:45:59 [urllib3.connectionpool] DEBUG: http://books.toscrape.com:80 \"GET /catalogue/category/books/childrens_11/index.html HTTP/1.1\" 200 49864\n",
      "2023-07-26 20:45:59 [urllib3.connectionpool] DEBUG: Starting new HTTP connection (1): books.toscrape.com:80\n",
      "2023-07-26 20:46:00 [urllib3.connectionpool] DEBUG: http://books.toscrape.com:80 \"GET /catalogue/category/books/childrens_11/index.html HTTP/1.1\" 200 49864\n",
      "2023-07-26 20:46:00 [urllib3.connectionpool] DEBUG: Starting new HTTP connection (1): books.toscrape.com:80\n",
      "2023-07-26 20:46:00 [urllib3.connectionpool] DEBUG: http://books.toscrape.com:80 \"GET /catalogue/category/books/childrens_11/page-2.html HTTP/1.1\" 200 33788\n",
      "2023-07-26 20:46:01 [urllib3.connectionpool] DEBUG: Starting new HTTP connection (1): books.toscrape.com:80\n",
      "2023-07-26 20:46:01 [urllib3.connectionpool] DEBUG: http://books.toscrape.com:80 \"GET /catalogue/category/books/childrens_11/page-2.html HTTP/1.1\" 200 33788\n",
      "2023-07-26 20:46:01 [urllib3.connectionpool] DEBUG: Starting new HTTP connection (1): books.toscrape.com:80\n"
     ]
    },
    {
     "name": "stdout",
     "output_type": "stream",
     "text": [
      "religion\n"
     ]
    },
    {
     "name": "stderr",
     "output_type": "stream",
     "text": [
      "2023-07-26 20:46:02 [urllib3.connectionpool] DEBUG: http://books.toscrape.com:80 \"GET /catalogue/category/books/religion_12/index.html HTTP/1.1\" 200 30933\n",
      "2023-07-26 20:46:02 [urllib3.connectionpool] DEBUG: Starting new HTTP connection (1): books.toscrape.com:80\n",
      "2023-07-26 20:46:03 [urllib3.connectionpool] DEBUG: http://books.toscrape.com:80 \"GET /catalogue/category/books/religion_12/index.html HTTP/1.1\" 200 30933\n",
      "2023-07-26 20:46:03 [urllib3.connectionpool] DEBUG: Starting new HTTP connection (1): books.toscrape.com:80\n"
     ]
    },
    {
     "name": "stdout",
     "output_type": "stream",
     "text": [
      "nonfiction\n"
     ]
    },
    {
     "name": "stderr",
     "output_type": "stream",
     "text": [
      "2023-07-26 20:46:03 [urllib3.connectionpool] DEBUG: http://books.toscrape.com:80 \"GET /catalogue/category/books/nonfiction_13/index.html HTTP/1.1\" 200 52725\n",
      "2023-07-26 20:46:04 [urllib3.connectionpool] DEBUG: Starting new HTTP connection (1): books.toscrape.com:80\n",
      "2023-07-26 20:46:04 [urllib3.connectionpool] DEBUG: http://books.toscrape.com:80 \"GET /catalogue/category/books/nonfiction_13/index.html HTTP/1.1\" 200 52725\n",
      "2023-07-26 20:46:04 [urllib3.connectionpool] DEBUG: Starting new HTTP connection (1): books.toscrape.com:80\n",
      "2023-07-26 20:46:05 [urllib3.connectionpool] DEBUG: http://books.toscrape.com:80 \"GET /catalogue/category/books/nonfiction_13/page-2.html HTTP/1.1\" 200 52464\n",
      "2023-07-26 20:46:05 [urllib3.connectionpool] DEBUG: Starting new HTTP connection (1): books.toscrape.com:80\n",
      "2023-07-26 20:46:06 [urllib3.connectionpool] DEBUG: http://books.toscrape.com:80 \"GET /catalogue/category/books/nonfiction_13/page-2.html HTTP/1.1\" 200 52464\n",
      "2023-07-26 20:46:06 [urllib3.connectionpool] DEBUG: Starting new HTTP connection (1): books.toscrape.com:80\n",
      "2023-07-26 20:46:06 [urllib3.connectionpool] DEBUG: http://books.toscrape.com:80 \"GET /catalogue/category/books/nonfiction_13/page-3.html HTTP/1.1\" 200 52401\n",
      "2023-07-26 20:46:07 [urllib3.connectionpool] DEBUG: Starting new HTTP connection (1): books.toscrape.com:80\n",
      "2023-07-26 20:46:07 [urllib3.connectionpool] DEBUG: http://books.toscrape.com:80 \"GET /catalogue/category/books/nonfiction_13/page-3.html HTTP/1.1\" 200 52401\n",
      "2023-07-26 20:46:07 [urllib3.connectionpool] DEBUG: Starting new HTTP connection (1): books.toscrape.com:80\n",
      "2023-07-26 20:46:08 [urllib3.connectionpool] DEBUG: http://books.toscrape.com:80 \"GET /catalogue/category/books/nonfiction_13/page-4.html HTTP/1.1\" 200 52538\n",
      "2023-07-26 20:46:08 [urllib3.connectionpool] DEBUG: Starting new HTTP connection (1): books.toscrape.com:80\n",
      "2023-07-26 20:46:09 [urllib3.connectionpool] DEBUG: http://books.toscrape.com:80 \"GET /catalogue/category/books/nonfiction_13/page-4.html HTTP/1.1\" 200 52538\n",
      "2023-07-26 20:46:09 [urllib3.connectionpool] DEBUG: Starting new HTTP connection (1): books.toscrape.com:80\n",
      "2023-07-26 20:46:09 [urllib3.connectionpool] DEBUG: http://books.toscrape.com:80 \"GET /catalogue/category/books/nonfiction_13/page-5.html HTTP/1.1\" 200 52115\n",
      "2023-07-26 20:46:10 [urllib3.connectionpool] DEBUG: Starting new HTTP connection (1): books.toscrape.com:80\n",
      "2023-07-26 20:46:10 [urllib3.connectionpool] DEBUG: http://books.toscrape.com:80 \"GET /catalogue/category/books/nonfiction_13/page-5.html HTTP/1.1\" 200 52115\n",
      "2023-07-26 20:46:11 [urllib3.connectionpool] DEBUG: Starting new HTTP connection (1): books.toscrape.com:80\n",
      "2023-07-26 20:46:11 [urllib3.connectionpool] DEBUG: http://books.toscrape.com:80 \"GET /catalogue/category/books/nonfiction_13/page-6.html HTTP/1.1\" 200 35365\n",
      "2023-07-26 20:46:11 [urllib3.connectionpool] DEBUG: Starting new HTTP connection (1): books.toscrape.com:80\n",
      "2023-07-26 20:46:11 [urllib3.connectionpool] DEBUG: http://books.toscrape.com:80 \"GET /catalogue/category/books/nonfiction_13/page-6.html HTTP/1.1\" 200 35365\n",
      "2023-07-26 20:46:12 [urllib3.connectionpool] DEBUG: Starting new HTTP connection (1): books.toscrape.com:80\n"
     ]
    },
    {
     "name": "stdout",
     "output_type": "stream",
     "text": [
      "music\n"
     ]
    },
    {
     "name": "stderr",
     "output_type": "stream",
     "text": [
      "2023-07-26 20:46:12 [urllib3.connectionpool] DEBUG: http://books.toscrape.com:80 \"GET /catalogue/category/books/music_14/index.html HTTP/1.1\" 200 40193\n",
      "2023-07-26 20:46:12 [urllib3.connectionpool] DEBUG: Starting new HTTP connection (1): books.toscrape.com:80\n",
      "2023-07-26 20:46:13 [urllib3.connectionpool] DEBUG: http://books.toscrape.com:80 \"GET /catalogue/category/books/music_14/index.html HTTP/1.1\" 200 40193\n",
      "2023-07-26 20:46:13 [urllib3.connectionpool] DEBUG: Starting new HTTP connection (1): books.toscrape.com:80\n"
     ]
    },
    {
     "name": "stdout",
     "output_type": "stream",
     "text": [
      "default\n"
     ]
    },
    {
     "name": "stderr",
     "output_type": "stream",
     "text": [
      "2023-07-26 20:46:13 [urllib3.connectionpool] DEBUG: http://books.toscrape.com:80 \"GET /catalogue/category/books/default_15/index.html HTTP/1.1\" 200 51474\n",
      "2023-07-26 20:46:14 [urllib3.connectionpool] DEBUG: Starting new HTTP connection (1): books.toscrape.com:80\n",
      "2023-07-26 20:46:14 [urllib3.connectionpool] DEBUG: http://books.toscrape.com:80 \"GET /catalogue/category/books/default_15/index.html HTTP/1.1\" 200 51474\n",
      "2023-07-26 20:46:14 [urllib3.connectionpool] DEBUG: Starting new HTTP connection (1): books.toscrape.com:80\n",
      "2023-07-26 20:46:15 [urllib3.connectionpool] DEBUG: http://books.toscrape.com:80 \"GET /catalogue/category/books/default_15/page-2.html HTTP/1.1\" 200 50858\n",
      "2023-07-26 20:46:15 [urllib3.connectionpool] DEBUG: Starting new HTTP connection (1): books.toscrape.com:80\n",
      "2023-07-26 20:46:16 [urllib3.connectionpool] DEBUG: http://books.toscrape.com:80 \"GET /catalogue/category/books/default_15/page-2.html HTTP/1.1\" 200 50858\n",
      "2023-07-26 20:46:16 [urllib3.connectionpool] DEBUG: Starting new HTTP connection (1): books.toscrape.com:80\n",
      "2023-07-26 20:46:16 [urllib3.connectionpool] DEBUG: http://books.toscrape.com:80 \"GET /catalogue/category/books/default_15/page-3.html HTTP/1.1\" 200 50824\n",
      "2023-07-26 20:46:17 [urllib3.connectionpool] DEBUG: Starting new HTTP connection (1): books.toscrape.com:80\n",
      "2023-07-26 20:46:17 [urllib3.connectionpool] DEBUG: http://books.toscrape.com:80 \"GET /catalogue/category/books/default_15/page-3.html HTTP/1.1\" 200 50824\n",
      "2023-07-26 20:46:18 [urllib3.connectionpool] DEBUG: Starting new HTTP connection (1): books.toscrape.com:80\n",
      "2023-07-26 20:46:18 [urllib3.connectionpool] DEBUG: http://books.toscrape.com:80 \"GET /catalogue/category/books/default_15/page-4.html HTTP/1.1\" 200 51222\n",
      "2023-07-26 20:46:19 [urllib3.connectionpool] DEBUG: Starting new HTTP connection (1): books.toscrape.com:80\n",
      "2023-07-26 20:46:19 [urllib3.connectionpool] DEBUG: http://books.toscrape.com:80 \"GET /catalogue/category/books/default_15/page-4.html HTTP/1.1\" 200 51222\n",
      "2023-07-26 20:46:19 [urllib3.connectionpool] DEBUG: Starting new HTTP connection (1): books.toscrape.com:80\n",
      "2023-07-26 20:46:20 [urllib3.connectionpool] DEBUG: http://books.toscrape.com:80 \"GET /catalogue/category/books/default_15/page-5.html HTTP/1.1\" 200 51027\n",
      "2023-07-26 20:46:20 [urllib3.connectionpool] DEBUG: Starting new HTTP connection (1): books.toscrape.com:80\n",
      "2023-07-26 20:46:20 [urllib3.connectionpool] DEBUG: http://books.toscrape.com:80 \"GET /catalogue/category/books/default_15/page-5.html HTTP/1.1\" 200 51027\n",
      "2023-07-26 20:46:21 [urllib3.connectionpool] DEBUG: Starting new HTTP connection (1): books.toscrape.com:80\n",
      "2023-07-26 20:46:21 [urllib3.connectionpool] DEBUG: http://books.toscrape.com:80 \"GET /catalogue/category/books/default_15/page-6.html HTTP/1.1\" 200 50328\n",
      "2023-07-26 20:46:22 [urllib3.connectionpool] DEBUG: Starting new HTTP connection (1): books.toscrape.com:80\n",
      "2023-07-26 20:46:22 [urllib3.connectionpool] DEBUG: http://books.toscrape.com:80 \"GET /catalogue/category/books/default_15/page-6.html HTTP/1.1\" 200 50328\n",
      "2023-07-26 20:46:23 [urllib3.connectionpool] DEBUG: Starting new HTTP connection (1): books.toscrape.com:80\n",
      "2023-07-26 20:46:23 [urllib3.connectionpool] DEBUG: http://books.toscrape.com:80 \"GET /catalogue/category/books/default_15/page-7.html HTTP/1.1\" 200 50668\n",
      "2023-07-26 20:46:23 [urllib3.connectionpool] DEBUG: Starting new HTTP connection (1): books.toscrape.com:80\n",
      "2023-07-26 20:46:24 [urllib3.connectionpool] DEBUG: http://books.toscrape.com:80 \"GET /catalogue/category/books/default_15/page-7.html HTTP/1.1\" 200 50668\n",
      "2023-07-26 20:46:24 [urllib3.connectionpool] DEBUG: Starting new HTTP connection (1): books.toscrape.com:80\n",
      "2023-07-26 20:46:24 [urllib3.connectionpool] DEBUG: http://books.toscrape.com:80 \"GET /catalogue/category/books/default_15/page-8.html HTTP/1.1\" 200 37911\n",
      "2023-07-26 20:46:25 [urllib3.connectionpool] DEBUG: Starting new HTTP connection (1): books.toscrape.com:80\n",
      "2023-07-26 20:46:25 [urllib3.connectionpool] DEBUG: http://books.toscrape.com:80 \"GET /catalogue/category/books/default_15/page-8.html HTTP/1.1\" 200 37911\n",
      "2023-07-26 20:46:26 [urllib3.connectionpool] DEBUG: Starting new HTTP connection (1): books.toscrape.com:80\n"
     ]
    },
    {
     "name": "stdout",
     "output_type": "stream",
     "text": [
      "science-fiction\n"
     ]
    },
    {
     "name": "stderr",
     "output_type": "stream",
     "text": [
      "2023-07-26 20:46:26 [urllib3.connectionpool] DEBUG: http://books.toscrape.com:80 \"GET /catalogue/category/books/science-fiction_16/index.html HTTP/1.1\" 200 44447\n",
      "2023-07-26 20:46:26 [urllib3.connectionpool] DEBUG: Starting new HTTP connection (1): books.toscrape.com:80\n",
      "2023-07-26 20:46:27 [urllib3.connectionpool] DEBUG: http://books.toscrape.com:80 \"GET /catalogue/category/books/science-fiction_16/index.html HTTP/1.1\" 200 44447\n",
      "2023-07-26 20:46:27 [urllib3.connectionpool] DEBUG: Starting new HTTP connection (1): books.toscrape.com:80\n"
     ]
    },
    {
     "name": "stdout",
     "output_type": "stream",
     "text": [
      "sports-and-games\n"
     ]
    },
    {
     "name": "stderr",
     "output_type": "stream",
     "text": [
      "2023-07-26 20:46:27 [urllib3.connectionpool] DEBUG: http://books.toscrape.com:80 \"GET /catalogue/category/books/sports-and-games_17/index.html HTTP/1.1\" 200 27558\n",
      "2023-07-26 20:46:28 [urllib3.connectionpool] DEBUG: Starting new HTTP connection (1): books.toscrape.com:80\n",
      "2023-07-26 20:46:28 [urllib3.connectionpool] DEBUG: http://books.toscrape.com:80 \"GET /catalogue/category/books/sports-and-games_17/index.html HTTP/1.1\" 200 27558\n",
      "2023-07-26 20:46:28 [urllib3.connectionpool] DEBUG: Starting new HTTP connection (1): books.toscrape.com:80\n"
     ]
    },
    {
     "name": "stdout",
     "output_type": "stream",
     "text": [
      "add-a-comment\n"
     ]
    },
    {
     "name": "stderr",
     "output_type": "stream",
     "text": [
      "2023-07-26 20:46:29 [urllib3.connectionpool] DEBUG: http://books.toscrape.com:80 \"GET /catalogue/category/books/add-a-comment_18/index.html HTTP/1.1\" 200 50931\n",
      "2023-07-26 20:46:29 [urllib3.connectionpool] DEBUG: Starting new HTTP connection (1): books.toscrape.com:80\n",
      "2023-07-26 20:46:30 [urllib3.connectionpool] DEBUG: http://books.toscrape.com:80 \"GET /catalogue/category/books/add-a-comment_18/index.html HTTP/1.1\" 200 50931\n",
      "2023-07-26 20:46:30 [urllib3.connectionpool] DEBUG: Starting new HTTP connection (1): books.toscrape.com:80\n",
      "2023-07-26 20:46:31 [urllib3.connectionpool] DEBUG: http://books.toscrape.com:80 \"GET /catalogue/category/books/add-a-comment_18/page-2.html HTTP/1.1\" 200 50119\n",
      "2023-07-26 20:46:31 [urllib3.connectionpool] DEBUG: Starting new HTTP connection (1): books.toscrape.com:80\n",
      "2023-07-26 20:46:31 [urllib3.connectionpool] DEBUG: http://books.toscrape.com:80 \"GET /catalogue/category/books/add-a-comment_18/page-2.html HTTP/1.1\" 200 50119\n",
      "2023-07-26 20:46:32 [urllib3.connectionpool] DEBUG: Starting new HTTP connection (1): books.toscrape.com:80\n",
      "2023-07-26 20:46:32 [urllib3.connectionpool] DEBUG: http://books.toscrape.com:80 \"GET /catalogue/category/books/add-a-comment_18/page-3.html HTTP/1.1\" 200 50992\n",
      "2023-07-26 20:46:33 [urllib3.connectionpool] DEBUG: Starting new HTTP connection (1): books.toscrape.com:80\n",
      "2023-07-26 20:46:33 [urllib3.connectionpool] DEBUG: http://books.toscrape.com:80 \"GET /catalogue/category/books/add-a-comment_18/page-3.html HTTP/1.1\" 200 50992\n",
      "2023-07-26 20:46:33 [urllib3.connectionpool] DEBUG: Starting new HTTP connection (1): books.toscrape.com:80\n",
      "2023-07-26 20:46:34 [urllib3.connectionpool] DEBUG: http://books.toscrape.com:80 \"GET /catalogue/category/books/add-a-comment_18/page-4.html HTTP/1.1\" 200 30297\n",
      "2023-07-26 20:46:34 [urllib3.connectionpool] DEBUG: Starting new HTTP connection (1): books.toscrape.com:80\n",
      "2023-07-26 20:46:35 [urllib3.connectionpool] DEBUG: http://books.toscrape.com:80 \"GET /catalogue/category/books/add-a-comment_18/page-4.html HTTP/1.1\" 200 30297\n",
      "2023-07-26 20:46:35 [urllib3.connectionpool] DEBUG: Starting new HTTP connection (1): books.toscrape.com:80\n"
     ]
    },
    {
     "name": "stdout",
     "output_type": "stream",
     "text": [
      "fantasy\n"
     ]
    },
    {
     "name": "stderr",
     "output_type": "stream",
     "text": [
      "2023-07-26 20:46:35 [urllib3.connectionpool] DEBUG: http://books.toscrape.com:80 \"GET /catalogue/category/books/fantasy_19/index.html HTTP/1.1\" 200 51248\n",
      "2023-07-26 20:46:36 [urllib3.connectionpool] DEBUG: Starting new HTTP connection (1): books.toscrape.com:80\n",
      "2023-07-26 20:46:36 [urllib3.connectionpool] DEBUG: http://books.toscrape.com:80 \"GET /catalogue/category/books/fantasy_19/index.html HTTP/1.1\" 200 51248\n",
      "2023-07-26 20:46:36 [urllib3.connectionpool] DEBUG: Starting new HTTP connection (1): books.toscrape.com:80\n",
      "2023-07-26 20:46:37 [urllib3.connectionpool] DEBUG: http://books.toscrape.com:80 \"GET /catalogue/category/books/fantasy_19/page-2.html HTTP/1.1\" 200 50831\n",
      "2023-07-26 20:46:37 [urllib3.connectionpool] DEBUG: Starting new HTTP connection (1): books.toscrape.com:80\n",
      "2023-07-26 20:46:38 [urllib3.connectionpool] DEBUG: http://books.toscrape.com:80 \"GET /catalogue/category/books/fantasy_19/page-2.html HTTP/1.1\" 200 50831\n",
      "2023-07-26 20:46:38 [urllib3.connectionpool] DEBUG: Starting new HTTP connection (1): books.toscrape.com:80\n",
      "2023-07-26 20:46:38 [urllib3.connectionpool] DEBUG: http://books.toscrape.com:80 \"GET /catalogue/category/books/fantasy_19/page-3.html HTTP/1.1\" 200 32210\n",
      "2023-07-26 20:46:39 [urllib3.connectionpool] DEBUG: Starting new HTTP connection (1): books.toscrape.com:80\n",
      "2023-07-26 20:46:39 [urllib3.connectionpool] DEBUG: http://books.toscrape.com:80 \"GET /catalogue/category/books/fantasy_19/page-3.html HTTP/1.1\" 200 32210\n",
      "2023-07-26 20:46:39 [urllib3.connectionpool] DEBUG: Starting new HTTP connection (1): books.toscrape.com:80\n"
     ]
    },
    {
     "name": "stdout",
     "output_type": "stream",
     "text": [
      "new-adult\n"
     ]
    },
    {
     "name": "stderr",
     "output_type": "stream",
     "text": [
      "2023-07-26 20:46:39 [urllib3.connectionpool] DEBUG: http://books.toscrape.com:80 \"GET /catalogue/category/books/new-adult_20/index.html HTTP/1.1\" 200 28732\n",
      "2023-07-26 20:46:40 [urllib3.connectionpool] DEBUG: Starting new HTTP connection (1): books.toscrape.com:80\n",
      "2023-07-26 20:46:40 [urllib3.connectionpool] DEBUG: http://books.toscrape.com:80 \"GET /catalogue/category/books/new-adult_20/index.html HTTP/1.1\" 200 28732\n",
      "2023-07-26 20:46:40 [urllib3.connectionpool] DEBUG: Starting new HTTP connection (1): books.toscrape.com:80\n"
     ]
    },
    {
     "name": "stdout",
     "output_type": "stream",
     "text": [
      "young-adult\n"
     ]
    },
    {
     "name": "stderr",
     "output_type": "stream",
     "text": [
      "2023-07-26 20:46:41 [urllib3.connectionpool] DEBUG: http://books.toscrape.com:80 \"GET /catalogue/category/books/young-adult_21/index.html HTTP/1.1\" 200 50167\n",
      "2023-07-26 20:46:41 [urllib3.connectionpool] DEBUG: Starting new HTTP connection (1): books.toscrape.com:80\n",
      "2023-07-26 20:46:42 [urllib3.connectionpool] DEBUG: http://books.toscrape.com:80 \"GET /catalogue/category/books/young-adult_21/index.html HTTP/1.1\" 200 50167\n",
      "2023-07-26 20:46:42 [urllib3.connectionpool] DEBUG: Starting new HTTP connection (1): books.toscrape.com:80\n",
      "2023-07-26 20:46:42 [urllib3.connectionpool] DEBUG: http://books.toscrape.com:80 \"GET /catalogue/category/books/young-adult_21/page-2.html HTTP/1.1\" 200 50268\n",
      "2023-07-26 20:46:43 [urllib3.connectionpool] DEBUG: Starting new HTTP connection (1): books.toscrape.com:80\n",
      "2023-07-26 20:46:43 [urllib3.connectionpool] DEBUG: http://books.toscrape.com:80 \"GET /catalogue/category/books/young-adult_21/page-2.html HTTP/1.1\" 200 50268\n",
      "2023-07-26 20:46:44 [urllib3.connectionpool] DEBUG: Starting new HTTP connection (1): books.toscrape.com:80\n",
      "2023-07-26 20:46:44 [urllib3.connectionpool] DEBUG: http://books.toscrape.com:80 \"GET /catalogue/category/books/young-adult_21/page-3.html HTTP/1.1\" 200 40893\n",
      "2023-07-26 20:46:44 [urllib3.connectionpool] DEBUG: Starting new HTTP connection (1): books.toscrape.com:80\n",
      "2023-07-26 20:46:44 [urllib3.connectionpool] DEBUG: http://books.toscrape.com:80 \"GET /catalogue/category/books/young-adult_21/page-3.html HTTP/1.1\" 200 40893\n",
      "2023-07-26 20:46:45 [urllib3.connectionpool] DEBUG: Starting new HTTP connection (1): books.toscrape.com:80\n"
     ]
    },
    {
     "name": "stdout",
     "output_type": "stream",
     "text": [
      "science\n"
     ]
    },
    {
     "name": "stderr",
     "output_type": "stream",
     "text": [
      "2023-07-26 20:46:45 [urllib3.connectionpool] DEBUG: http://books.toscrape.com:80 \"GET /catalogue/category/books/science_22/index.html HTTP/1.1\" 200 42547\n",
      "2023-07-26 20:46:46 [urllib3.connectionpool] DEBUG: Starting new HTTP connection (1): books.toscrape.com:80\n",
      "2023-07-26 20:46:46 [urllib3.connectionpool] DEBUG: http://books.toscrape.com:80 \"GET /catalogue/category/books/science_22/index.html HTTP/1.1\" 200 42547\n",
      "2023-07-26 20:46:47 [urllib3.connectionpool] DEBUG: Starting new HTTP connection (1): books.toscrape.com:80\n"
     ]
    },
    {
     "name": "stdout",
     "output_type": "stream",
     "text": [
      "poetry\n"
     ]
    },
    {
     "name": "stderr",
     "output_type": "stream",
     "text": [
      "2023-07-26 20:46:47 [urllib3.connectionpool] DEBUG: http://books.toscrape.com:80 \"GET /catalogue/category/books/poetry_23/index.html HTTP/1.1\" 200 48207\n",
      "2023-07-26 20:46:47 [urllib3.connectionpool] DEBUG: Starting new HTTP connection (1): books.toscrape.com:80\n",
      "2023-07-26 20:46:48 [urllib3.connectionpool] DEBUG: http://books.toscrape.com:80 \"GET /catalogue/category/books/poetry_23/index.html HTTP/1.1\" 200 48207\n",
      "2023-07-26 20:46:48 [urllib3.connectionpool] DEBUG: Starting new HTTP connection (1): books.toscrape.com:80\n"
     ]
    },
    {
     "name": "stdout",
     "output_type": "stream",
     "text": [
      "paranormal\n"
     ]
    },
    {
     "name": "stderr",
     "output_type": "stream",
     "text": [
      "2023-07-26 20:46:48 [urllib3.connectionpool] DEBUG: http://books.toscrape.com:80 \"GET /catalogue/category/books/paranormal_24/index.html HTTP/1.1\" 200 21385\n",
      "2023-07-26 20:46:49 [urllib3.connectionpool] DEBUG: Starting new HTTP connection (1): books.toscrape.com:80\n",
      "2023-07-26 20:46:49 [urllib3.connectionpool] DEBUG: http://books.toscrape.com:80 \"GET /catalogue/category/books/paranormal_24/index.html HTTP/1.1\" 200 21385\n",
      "2023-07-26 20:46:49 [urllib3.connectionpool] DEBUG: Starting new HTTP connection (1): books.toscrape.com:80\n"
     ]
    },
    {
     "name": "stdout",
     "output_type": "stream",
     "text": [
      "art\n"
     ]
    },
    {
     "name": "stderr",
     "output_type": "stream",
     "text": [
      "2023-07-26 20:46:50 [urllib3.connectionpool] DEBUG: http://books.toscrape.com:80 \"GET /catalogue/category/books/art_25/index.html HTTP/1.1\" 200 31769\n",
      "2023-07-26 20:46:50 [urllib3.connectionpool] DEBUG: Starting new HTTP connection (1): books.toscrape.com:80\n",
      "2023-07-26 20:46:50 [urllib3.connectionpool] DEBUG: http://books.toscrape.com:80 \"GET /catalogue/category/books/art_25/index.html HTTP/1.1\" 200 31769\n",
      "2023-07-26 20:46:50 [urllib3.connectionpool] DEBUG: Starting new HTTP connection (1): books.toscrape.com:80\n"
     ]
    },
    {
     "name": "stdout",
     "output_type": "stream",
     "text": [
      "psychology\n"
     ]
    },
    {
     "name": "stderr",
     "output_type": "stream",
     "text": [
      "2023-07-26 20:46:51 [urllib3.connectionpool] DEBUG: http://books.toscrape.com:80 \"GET /catalogue/category/books/psychology_26/index.html HTTP/1.1\" 200 30968\n",
      "2023-07-26 20:46:51 [urllib3.connectionpool] DEBUG: Starting new HTTP connection (1): books.toscrape.com:80\n",
      "2023-07-26 20:46:51 [urllib3.connectionpool] DEBUG: http://books.toscrape.com:80 \"GET /catalogue/category/books/psychology_26/index.html HTTP/1.1\" 200 30968\n",
      "2023-07-26 20:46:52 [urllib3.connectionpool] DEBUG: Starting new HTTP connection (1): books.toscrape.com:80\n"
     ]
    },
    {
     "name": "stdout",
     "output_type": "stream",
     "text": [
      "autobiography\n"
     ]
    },
    {
     "name": "stderr",
     "output_type": "stream",
     "text": [
      "2023-07-26 20:46:52 [urllib3.connectionpool] DEBUG: http://books.toscrape.com:80 \"GET /catalogue/category/books/autobiography_27/index.html HTTP/1.1\" 200 33034\n",
      "2023-07-26 20:46:52 [urllib3.connectionpool] DEBUG: Starting new HTTP connection (1): books.toscrape.com:80\n",
      "2023-07-26 20:46:53 [urllib3.connectionpool] DEBUG: http://books.toscrape.com:80 \"GET /catalogue/category/books/autobiography_27/index.html HTTP/1.1\" 200 33034\n",
      "2023-07-26 20:46:53 [urllib3.connectionpool] DEBUG: Starting new HTTP connection (1): books.toscrape.com:80\n"
     ]
    },
    {
     "name": "stdout",
     "output_type": "stream",
     "text": [
      "parenting\n"
     ]
    },
    {
     "name": "stderr",
     "output_type": "stream",
     "text": [
      "2023-07-26 20:46:53 [urllib3.connectionpool] DEBUG: http://books.toscrape.com:80 \"GET /catalogue/category/books/parenting_28/index.html HTTP/1.1\" 200 21492\n",
      "2023-07-26 20:46:54 [urllib3.connectionpool] DEBUG: Starting new HTTP connection (1): books.toscrape.com:80\n",
      "2023-07-26 20:46:54 [urllib3.connectionpool] DEBUG: http://books.toscrape.com:80 \"GET /catalogue/category/books/parenting_28/index.html HTTP/1.1\" 200 21492\n",
      "2023-07-26 20:46:54 [urllib3.connectionpool] DEBUG: Starting new HTTP connection (1): books.toscrape.com:80\n"
     ]
    },
    {
     "name": "stdout",
     "output_type": "stream",
     "text": [
      "adult-fiction\n"
     ]
    },
    {
     "name": "stderr",
     "output_type": "stream",
     "text": [
      "2023-07-26 20:46:55 [urllib3.connectionpool] DEBUG: http://books.toscrape.com:80 \"GET /catalogue/category/books/adult-fiction_29/index.html HTTP/1.1\" 200 21377\n",
      "2023-07-26 20:46:55 [urllib3.connectionpool] DEBUG: Starting new HTTP connection (1): books.toscrape.com:80\n",
      "2023-07-26 20:46:55 [urllib3.connectionpool] DEBUG: http://books.toscrape.com:80 \"GET /catalogue/category/books/adult-fiction_29/index.html HTTP/1.1\" 200 21377\n",
      "2023-07-26 20:46:55 [urllib3.connectionpool] DEBUG: Starting new HTTP connection (1): books.toscrape.com:80\n"
     ]
    },
    {
     "name": "stdout",
     "output_type": "stream",
     "text": [
      "humor\n"
     ]
    },
    {
     "name": "stderr",
     "output_type": "stream",
     "text": [
      "2023-07-26 20:46:56 [urllib3.connectionpool] DEBUG: http://books.toscrape.com:80 \"GET /catalogue/category/books/humor_30/index.html HTTP/1.1\" 200 35542\n",
      "2023-07-26 20:46:56 [urllib3.connectionpool] DEBUG: Starting new HTTP connection (1): books.toscrape.com:80\n",
      "2023-07-26 20:46:57 [urllib3.connectionpool] DEBUG: http://books.toscrape.com:80 \"GET /catalogue/category/books/humor_30/index.html HTTP/1.1\" 200 35542\n",
      "2023-07-26 20:46:57 [urllib3.connectionpool] DEBUG: Starting new HTTP connection (1): books.toscrape.com:80\n"
     ]
    },
    {
     "name": "stdout",
     "output_type": "stream",
     "text": [
      "horror\n"
     ]
    },
    {
     "name": "stderr",
     "output_type": "stream",
     "text": [
      "2023-07-26 20:46:57 [urllib3.connectionpool] DEBUG: http://books.toscrape.com:80 \"GET /catalogue/category/books/horror_31/index.html HTTP/1.1\" 200 44510\n",
      "2023-07-26 20:46:58 [urllib3.connectionpool] DEBUG: Starting new HTTP connection (1): books.toscrape.com:80\n",
      "2023-07-26 20:46:58 [urllib3.connectionpool] DEBUG: http://books.toscrape.com:80 \"GET /catalogue/category/books/horror_31/index.html HTTP/1.1\" 200 44510\n",
      "2023-07-26 20:46:58 [urllib3.connectionpool] DEBUG: Starting new HTTP connection (1): books.toscrape.com:80\n"
     ]
    },
    {
     "name": "stdout",
     "output_type": "stream",
     "text": [
      "history\n"
     ]
    },
    {
     "name": "stderr",
     "output_type": "stream",
     "text": [
      "2023-07-26 20:46:59 [urllib3.connectionpool] DEBUG: http://books.toscrape.com:80 \"GET /catalogue/category/books/history_32/index.html HTTP/1.1\" 200 49302\n",
      "2023-07-26 20:46:59 [urllib3.connectionpool] DEBUG: Starting new HTTP connection (1): books.toscrape.com:80\n",
      "2023-07-26 20:47:00 [urllib3.connectionpool] DEBUG: http://books.toscrape.com:80 \"GET /catalogue/category/books/history_32/index.html HTTP/1.1\" 200 49302\n",
      "2023-07-26 20:47:00 [urllib3.connectionpool] DEBUG: Starting new HTTP connection (1): books.toscrape.com:80\n"
     ]
    },
    {
     "name": "stdout",
     "output_type": "stream",
     "text": [
      "food-and-drink\n"
     ]
    },
    {
     "name": "stderr",
     "output_type": "stream",
     "text": [
      "2023-07-26 20:47:00 [urllib3.connectionpool] DEBUG: http://books.toscrape.com:80 \"GET /catalogue/category/books/food-and-drink_33/index.html HTTP/1.1\" 200 54124\n",
      "2023-07-26 20:47:01 [urllib3.connectionpool] DEBUG: Starting new HTTP connection (1): books.toscrape.com:80\n",
      "2023-07-26 20:47:01 [urllib3.connectionpool] DEBUG: http://books.toscrape.com:80 \"GET /catalogue/category/books/food-and-drink_33/index.html HTTP/1.1\" 200 54124\n",
      "2023-07-26 20:47:01 [urllib3.connectionpool] DEBUG: Starting new HTTP connection (1): books.toscrape.com:80\n",
      "2023-07-26 20:47:02 [urllib3.connectionpool] DEBUG: http://books.toscrape.com:80 \"GET /catalogue/category/books/food-and-drink_33/page-2.html HTTP/1.1\" 200 36510\n",
      "2023-07-26 20:47:02 [urllib3.connectionpool] DEBUG: Starting new HTTP connection (1): books.toscrape.com:80\n",
      "2023-07-26 20:47:03 [urllib3.connectionpool] DEBUG: http://books.toscrape.com:80 \"GET /catalogue/category/books/food-and-drink_33/page-2.html HTTP/1.1\" 200 36510\n",
      "2023-07-26 20:47:03 [urllib3.connectionpool] DEBUG: Starting new HTTP connection (1): books.toscrape.com:80\n"
     ]
    },
    {
     "name": "stdout",
     "output_type": "stream",
     "text": [
      "christian-fiction\n"
     ]
    },
    {
     "name": "stderr",
     "output_type": "stream",
     "text": [
      "2023-07-26 20:47:03 [urllib3.connectionpool] DEBUG: http://books.toscrape.com:80 \"GET /catalogue/category/books/christian-fiction_34/index.html HTTP/1.1\" 200 28767\n",
      "2023-07-26 20:47:04 [urllib3.connectionpool] DEBUG: Starting new HTTP connection (1): books.toscrape.com:80\n",
      "2023-07-26 20:47:04 [urllib3.connectionpool] DEBUG: http://books.toscrape.com:80 \"GET /catalogue/category/books/christian-fiction_34/index.html HTTP/1.1\" 200 28767\n",
      "2023-07-26 20:47:04 [urllib3.connectionpool] DEBUG: Starting new HTTP connection (1): books.toscrape.com:80\n"
     ]
    },
    {
     "name": "stdout",
     "output_type": "stream",
     "text": [
      "business\n"
     ]
    },
    {
     "name": "stderr",
     "output_type": "stream",
     "text": [
      "2023-07-26 20:47:05 [urllib3.connectionpool] DEBUG: http://books.toscrape.com:80 \"GET /catalogue/category/books/business_35/index.html HTTP/1.1\" 200 39006\n",
      "2023-07-26 20:47:05 [urllib3.connectionpool] DEBUG: Starting new HTTP connection (1): books.toscrape.com:80\n",
      "2023-07-26 20:47:05 [urllib3.connectionpool] DEBUG: http://books.toscrape.com:80 \"GET /catalogue/category/books/business_35/index.html HTTP/1.1\" 200 39006\n",
      "2023-07-26 20:47:06 [urllib3.connectionpool] DEBUG: Starting new HTTP connection (1): books.toscrape.com:80\n"
     ]
    },
    {
     "name": "stdout",
     "output_type": "stream",
     "text": [
      "biography\n"
     ]
    },
    {
     "name": "stderr",
     "output_type": "stream",
     "text": [
      "2023-07-26 20:47:06 [urllib3.connectionpool] DEBUG: http://books.toscrape.com:80 \"GET /catalogue/category/books/biography_36/index.html HTTP/1.1\" 200 27988\n",
      "2023-07-26 20:47:06 [urllib3.connectionpool] DEBUG: Starting new HTTP connection (1): books.toscrape.com:80\n",
      "2023-07-26 20:47:07 [urllib3.connectionpool] DEBUG: http://books.toscrape.com:80 \"GET /catalogue/category/books/biography_36/index.html HTTP/1.1\" 200 27988\n",
      "2023-07-26 20:47:07 [urllib3.connectionpool] DEBUG: Starting new HTTP connection (1): books.toscrape.com:80\n"
     ]
    },
    {
     "name": "stdout",
     "output_type": "stream",
     "text": [
      "thriller\n"
     ]
    },
    {
     "name": "stderr",
     "output_type": "stream",
     "text": [
      "2023-07-26 20:47:07 [urllib3.connectionpool] DEBUG: http://books.toscrape.com:80 \"GET /catalogue/category/books/thriller_37/index.html HTTP/1.1\" 200 36067\n",
      "2023-07-26 20:47:07 [urllib3.connectionpool] DEBUG: Starting new HTTP connection (1): books.toscrape.com:80\n",
      "2023-07-26 20:47:08 [urllib3.connectionpool] DEBUG: http://books.toscrape.com:80 \"GET /catalogue/category/books/thriller_37/index.html HTTP/1.1\" 200 36067\n",
      "2023-07-26 20:47:08 [urllib3.connectionpool] DEBUG: Starting new HTTP connection (1): books.toscrape.com:80\n"
     ]
    },
    {
     "name": "stdout",
     "output_type": "stream",
     "text": [
      "contemporary\n"
     ]
    },
    {
     "name": "stderr",
     "output_type": "stream",
     "text": [
      "2023-07-26 20:47:08 [urllib3.connectionpool] DEBUG: http://books.toscrape.com:80 \"GET /catalogue/category/books/contemporary_38/index.html HTTP/1.1\" 200 24345\n",
      "2023-07-26 20:47:09 [urllib3.connectionpool] DEBUG: Starting new HTTP connection (1): books.toscrape.com:80\n",
      "2023-07-26 20:47:09 [urllib3.connectionpool] DEBUG: http://books.toscrape.com:80 \"GET /catalogue/category/books/contemporary_38/index.html HTTP/1.1\" 200 24345\n",
      "2023-07-26 20:47:09 [urllib3.connectionpool] DEBUG: Starting new HTTP connection (1): books.toscrape.com:80\n"
     ]
    },
    {
     "name": "stdout",
     "output_type": "stream",
     "text": [
      "spirituality\n"
     ]
    },
    {
     "name": "stderr",
     "output_type": "stream",
     "text": [
      "2023-07-26 20:47:10 [urllib3.connectionpool] DEBUG: http://books.toscrape.com:80 \"GET /catalogue/category/books/spirituality_39/index.html HTTP/1.1\" 200 29649\n",
      "2023-07-26 20:47:10 [urllib3.connectionpool] DEBUG: Starting new HTTP connection (1): books.toscrape.com:80\n",
      "2023-07-26 20:47:10 [urllib3.connectionpool] DEBUG: http://books.toscrape.com:80 \"GET /catalogue/category/books/spirituality_39/index.html HTTP/1.1\" 200 29649\n",
      "2023-07-26 20:47:11 [urllib3.connectionpool] DEBUG: Starting new HTTP connection (1): books.toscrape.com:80\n"
     ]
    },
    {
     "name": "stdout",
     "output_type": "stream",
     "text": [
      "academic\n"
     ]
    },
    {
     "name": "stderr",
     "output_type": "stream",
     "text": [
      "2023-07-26 20:47:11 [urllib3.connectionpool] DEBUG: http://books.toscrape.com:80 \"GET /catalogue/category/books/academic_40/index.html HTTP/1.1\" 200 21359\n",
      "2023-07-26 20:47:11 [urllib3.connectionpool] DEBUG: Starting new HTTP connection (1): books.toscrape.com:80\n",
      "2023-07-26 20:47:12 [urllib3.connectionpool] DEBUG: http://books.toscrape.com:80 \"GET /catalogue/category/books/academic_40/index.html HTTP/1.1\" 200 21359\n",
      "2023-07-26 20:47:12 [urllib3.connectionpool] DEBUG: Starting new HTTP connection (1): books.toscrape.com:80\n"
     ]
    },
    {
     "name": "stdout",
     "output_type": "stream",
     "text": [
      "self-help\n"
     ]
    },
    {
     "name": "stderr",
     "output_type": "stream",
     "text": [
      "2023-07-26 20:47:12 [urllib3.connectionpool] DEBUG: http://books.toscrape.com:80 \"GET /catalogue/category/books/self-help_41/index.html HTTP/1.1\" 200 27997\n",
      "2023-07-26 20:47:12 [urllib3.connectionpool] DEBUG: Starting new HTTP connection (1): books.toscrape.com:80\n",
      "2023-07-26 20:47:13 [urllib3.connectionpool] DEBUG: http://books.toscrape.com:80 \"GET /catalogue/category/books/self-help_41/index.html HTTP/1.1\" 200 27997\n",
      "2023-07-26 20:47:13 [urllib3.connectionpool] DEBUG: Starting new HTTP connection (1): books.toscrape.com:80\n"
     ]
    },
    {
     "name": "stdout",
     "output_type": "stream",
     "text": [
      "historical\n"
     ]
    },
    {
     "name": "stderr",
     "output_type": "stream",
     "text": [
      "2023-07-26 20:47:13 [urllib3.connectionpool] DEBUG: http://books.toscrape.com:80 \"GET /catalogue/category/books/historical_42/index.html HTTP/1.1\" 200 22924\n",
      "2023-07-26 20:47:14 [urllib3.connectionpool] DEBUG: Starting new HTTP connection (1): books.toscrape.com:80\n",
      "2023-07-26 20:47:14 [urllib3.connectionpool] DEBUG: http://books.toscrape.com:80 \"GET /catalogue/category/books/historical_42/index.html HTTP/1.1\" 200 22924\n",
      "2023-07-26 20:47:14 [urllib3.connectionpool] DEBUG: Starting new HTTP connection (1): books.toscrape.com:80\n"
     ]
    },
    {
     "name": "stdout",
     "output_type": "stream",
     "text": [
      "christian\n"
     ]
    },
    {
     "name": "stderr",
     "output_type": "stream",
     "text": [
      "2023-07-26 20:47:15 [urllib3.connectionpool] DEBUG: http://books.toscrape.com:80 \"GET /catalogue/category/books/christian_43/index.html HTTP/1.1\" 200 24662\n",
      "2023-07-26 20:47:15 [urllib3.connectionpool] DEBUG: Starting new HTTP connection (1): books.toscrape.com:80\n",
      "2023-07-26 20:47:15 [urllib3.connectionpool] DEBUG: http://books.toscrape.com:80 \"GET /catalogue/category/books/christian_43/index.html HTTP/1.1\" 200 24662\n",
      "2023-07-26 20:47:15 [urllib3.connectionpool] DEBUG: Starting new HTTP connection (1): books.toscrape.com:80\n"
     ]
    },
    {
     "name": "stdout",
     "output_type": "stream",
     "text": [
      "suspense\n"
     ]
    },
    {
     "name": "stderr",
     "output_type": "stream",
     "text": [
      "2023-07-26 20:47:16 [urllib3.connectionpool] DEBUG: http://books.toscrape.com:80 \"GET /catalogue/category/books/suspense_44/index.html HTTP/1.1\" 200 21362\n",
      "2023-07-26 20:47:16 [urllib3.connectionpool] DEBUG: Starting new HTTP connection (1): books.toscrape.com:80\n",
      "2023-07-26 20:47:16 [urllib3.connectionpool] DEBUG: http://books.toscrape.com:80 \"GET /catalogue/category/books/suspense_44/index.html HTTP/1.1\" 200 21362\n",
      "2023-07-26 20:47:17 [urllib3.connectionpool] DEBUG: Starting new HTTP connection (1): books.toscrape.com:80\n"
     ]
    },
    {
     "name": "stdout",
     "output_type": "stream",
     "text": [
      "short-stories\n"
     ]
    },
    {
     "name": "stderr",
     "output_type": "stream",
     "text": [
      "2023-07-26 20:47:17 [urllib3.connectionpool] DEBUG: http://books.toscrape.com:80 \"GET /catalogue/category/books/short-stories_45/index.html HTTP/1.1\" 200 21264\n",
      "2023-07-26 20:47:17 [urllib3.connectionpool] DEBUG: Starting new HTTP connection (1): books.toscrape.com:80\n",
      "2023-07-26 20:47:18 [urllib3.connectionpool] DEBUG: http://books.toscrape.com:80 \"GET /catalogue/category/books/short-stories_45/index.html HTTP/1.1\" 200 21264\n",
      "2023-07-26 20:47:18 [urllib3.connectionpool] DEBUG: Starting new HTTP connection (1): books.toscrape.com:80\n"
     ]
    },
    {
     "name": "stdout",
     "output_type": "stream",
     "text": [
      "novels\n"
     ]
    },
    {
     "name": "stderr",
     "output_type": "stream",
     "text": [
      "2023-07-26 20:47:18 [urllib3.connectionpool] DEBUG: http://books.toscrape.com:80 \"GET /catalogue/category/books/novels_46/index.html HTTP/1.1\" 200 21456\n",
      "2023-07-26 20:47:19 [urllib3.connectionpool] DEBUG: Starting new HTTP connection (1): books.toscrape.com:80\n",
      "2023-07-26 20:47:19 [urllib3.connectionpool] DEBUG: http://books.toscrape.com:80 \"GET /catalogue/category/books/novels_46/index.html HTTP/1.1\" 200 21456\n",
      "2023-07-26 20:47:19 [urllib3.connectionpool] DEBUG: Starting new HTTP connection (1): books.toscrape.com:80\n"
     ]
    },
    {
     "name": "stdout",
     "output_type": "stream",
     "text": [
      "health\n"
     ]
    },
    {
     "name": "stderr",
     "output_type": "stream",
     "text": [
      "2023-07-26 20:47:20 [urllib3.connectionpool] DEBUG: http://books.toscrape.com:80 \"GET /catalogue/category/books/health_47/index.html HTTP/1.1\" 200 26240\n",
      "2023-07-26 20:47:20 [urllib3.connectionpool] DEBUG: Starting new HTTP connection (1): books.toscrape.com:80\n",
      "2023-07-26 20:47:20 [urllib3.connectionpool] DEBUG: http://books.toscrape.com:80 \"GET /catalogue/category/books/health_47/index.html HTTP/1.1\" 200 26240\n",
      "2023-07-26 20:47:20 [urllib3.connectionpool] DEBUG: Starting new HTTP connection (1): books.toscrape.com:80\n"
     ]
    },
    {
     "name": "stdout",
     "output_type": "stream",
     "text": [
      "politics\n"
     ]
    },
    {
     "name": "stderr",
     "output_type": "stream",
     "text": [
      "2023-07-26 20:47:21 [urllib3.connectionpool] DEBUG: http://books.toscrape.com:80 \"GET /catalogue/category/books/politics_48/index.html HTTP/1.1\" 200 24717\n",
      "2023-07-26 20:47:21 [urllib3.connectionpool] DEBUG: Starting new HTTP connection (1): books.toscrape.com:80\n",
      "2023-07-26 20:47:21 [urllib3.connectionpool] DEBUG: http://books.toscrape.com:80 \"GET /catalogue/category/books/politics_48/index.html HTTP/1.1\" 200 24717\n",
      "2023-07-26 20:47:22 [urllib3.connectionpool] DEBUG: Starting new HTTP connection (1): books.toscrape.com:80\n"
     ]
    },
    {
     "name": "stdout",
     "output_type": "stream",
     "text": [
      "cultural\n"
     ]
    },
    {
     "name": "stderr",
     "output_type": "stream",
     "text": [
      "2023-07-26 20:47:22 [urllib3.connectionpool] DEBUG: http://books.toscrape.com:80 \"GET /catalogue/category/books/cultural_49/index.html HTTP/1.1\" 200 21269\n",
      "2023-07-26 20:47:22 [urllib3.connectionpool] DEBUG: Starting new HTTP connection (1): books.toscrape.com:80\n",
      "2023-07-26 20:47:23 [urllib3.connectionpool] DEBUG: http://books.toscrape.com:80 \"GET /catalogue/category/books/cultural_49/index.html HTTP/1.1\" 200 21269\n",
      "2023-07-26 20:47:23 [urllib3.connectionpool] DEBUG: Starting new HTTP connection (1): books.toscrape.com:80\n"
     ]
    },
    {
     "name": "stdout",
     "output_type": "stream",
     "text": [
      "erotica\n"
     ]
    },
    {
     "name": "stderr",
     "output_type": "stream",
     "text": [
      "2023-07-26 20:47:23 [urllib3.connectionpool] DEBUG: http://books.toscrape.com:80 \"GET /catalogue/category/books/erotica_50/index.html HTTP/1.1\" 200 21248\n",
      "2023-07-26 20:47:23 [urllib3.connectionpool] DEBUG: Starting new HTTP connection (1): books.toscrape.com:80\n",
      "2023-07-26 20:47:24 [urllib3.connectionpool] DEBUG: http://books.toscrape.com:80 \"GET /catalogue/category/books/erotica_50/index.html HTTP/1.1\" 200 21248\n",
      "2023-07-26 20:47:24 [urllib3.connectionpool] DEBUG: Starting new HTTP connection (1): books.toscrape.com:80\n"
     ]
    },
    {
     "name": "stdout",
     "output_type": "stream",
     "text": [
      "crime\n"
     ]
    },
    {
     "name": "stderr",
     "output_type": "stream",
     "text": [
      "2023-07-26 20:47:24 [urllib3.connectionpool] DEBUG: http://books.toscrape.com:80 \"GET /catalogue/category/books/crime_51/index.html HTTP/1.1\" 200 21493\n",
      "2023-07-26 20:47:25 [urllib3.connectionpool] DEBUG: Starting new HTTP connection (1): books.toscrape.com:80\n",
      "2023-07-26 20:47:25 [urllib3.connectionpool] DEBUG: http://books.toscrape.com:80 \"GET /catalogue/category/books/crime_51/index.html HTTP/1.1\" 200 21493\n"
     ]
    }
   ],
   "source": [
    "i=2\n",
    "def get_page_data(url):\n",
    "    response = requests.get(url)\n",
    "    if response.status_code == 200:\n",
    "        soup = BeautifulSoup(response.content, 'html.parser')\n",
    "        liste_livres = soup.find_all('article', class_='product_pod')\n",
    "\n",
    "        # Liste pour stocker les informations de chaque livre dans cette page\n",
    "        livres = []\n",
    "\n",
    "        # Parcourir tous les livres de cette page et récupérer les informations souhaitées\n",
    "        for livre in liste_livres:\n",
    "            titre = livre.h3.a['title']\n",
    "            prix = livre.find('p', class_='price_color').text\n",
    "            note = livre.find('p', class_='star-rating')['class'][1]\n",
    "            disponibilite = livre.find('p', class_='instock availability').text.strip()\n",
    "\n",
    "            # Ajouter les informations du livre à la liste 'livres'\n",
    "            livres.append({\n",
    "                'Catégorie': current_category,\n",
    "                'Titre': titre,\n",
    "                'Prix': prix,\n",
    "                'Note': note,\n",
    "                'Disponibilité': disponibilite\n",
    "            })\n",
    "\n",
    "        return livres\n",
    "    else:\n",
    "        print(\"La requête a échoué avec le statut :\", response.status_code)\n",
    "        return []\n",
    "\n",
    "# URL de la page de la page d'accueil\n",
    "url_page = \"http://books.toscrape.com/catalogue/page-1.html\"\n",
    "\n",
    "# Liste pour stocker les informations de tous les livres de toutes les catégories\n",
    "tous_les_livres = []\n",
    "\n",
    "# Récupérer le contenu de la page d'acceuil\n",
    "response = requests.get(url_page)\n",
    "\n",
    "# Vérifier si la requête a réussi (statut 200)\n",
    "if response.status_code == 200:\n",
    "    # Analyser le contenu HTML de la page\n",
    "    soup = BeautifulSoup(response.content, 'html.parser')\n",
    "\n",
    "    # Récupérer la liste des catégories de la page d'accueil\n",
    "    liste_categories = soup.find('ul', class_='nav-list').find_all('a')\n",
    "    liste_categories.pop(0)\n",
    "    # Parcourir toutes les catégories et récupérer les informations pour chaque catégorie\n",
    "    for categorie in liste_categories:\n",
    "        j=1\n",
    "        #récupérer le nom de catégorie concernée\n",
    "        current_category = categorie.text.strip()\n",
    "        #mettre le nom en miniscule vu que les liens du sites utilisent ces noms en miniscule\n",
    "        current_category = current_category.lower()\n",
    "        #remplacer les espaces par des \"-\" vu que les liens fonctionnent ainsi également\n",
    "        current_category=current_category.replace(' ','-')\n",
    "        i1=str(i)\n",
    "        print(current_category)\n",
    "        #former l'url de la catégorie\n",
    "        url_categorie = \"http://books.toscrape.com/catalogue/category/books/\"+current_category+\"_\"+i1+\"/index.html\"\n",
    "        i=i+1\n",
    "        # Récupérer les informations pour la catégorie actuelle et toutes ses pages\n",
    "        while True:\n",
    "            \n",
    "            # Récupérer les informations pour la page actuelle\n",
    "            livres_pages = get_page_data(url_categorie)\n",
    "            tous_les_livres.extend(livres_pages)\n",
    "        \n",
    "            # Trouver le lien de la page suivante\n",
    "            response = requests.get(url_categorie)\n",
    "            if response.status_code == 200:\n",
    "                soup = BeautifulSoup(response.content, 'html.parser')\n",
    "                next_page = soup.find('li', class_='next')\n",
    "                if next_page is None:\n",
    "                    # S'il n'y a pas de lien vers la page suivante, sortir de la boucle\n",
    "                    break\n",
    "                else:\n",
    "                    # Construire l'URL de la page suivante\n",
    "                    j=j+1\n",
    "                    j1=str(j)\n",
    "                    url_categorie = \"http://books.toscrape.com/catalogue/category/books/\"+current_category+\"_\"+i1+\"/page-\"+j1+\".html\"\n",
    "                    \n",
    "            else:\n",
    "                print(f\"La requête pour la catégorie '{current_category}' a échoué avec le statut :\", response.status_code)\n",
    "                break"
   ]
  },
  {
   "cell_type": "markdown",
   "id": "67b84e96-c1b8-4d7f-878f-c0c6accce3ca",
   "metadata": {},
   "source": [
    "------------------------------\n",
    "------------------------------\n",
    "------------------------------\n",
    "\n",
    "On peut vérifier le travail en vérifiant la taille de la base. Nous avons exactement le même nombre de livres que celui présent sur le site."
   ]
  },
  {
   "cell_type": "code",
   "execution_count": 237,
   "id": "d352d028-445b-4fe3-9466-2191d85b288e",
   "metadata": {},
   "outputs": [
    {
     "data": {
      "text/plain": [
       "1000"
      ]
     },
     "execution_count": 237,
     "metadata": {},
     "output_type": "execute_result"
    }
   ],
   "source": [
    "len(tous_les_livres)"
   ]
  },
  {
   "cell_type": "markdown",
   "id": "74b51f13-f570-4734-b836-9b5ccbaffe15",
   "metadata": {},
   "source": [
    "## 3. AFFICHAGE ET ARRANGEMENT DE LA BASE"
   ]
  },
  {
   "cell_type": "code",
   "execution_count": 290,
   "id": "1fad82fd-80c9-448f-94d2-0fabd8919c96",
   "metadata": {},
   "outputs": [],
   "source": [
    "base_finale=pd.DataFrame(tous_les_livres)"
   ]
  },
  {
   "cell_type": "code",
   "execution_count": 291,
   "id": "1759b336-4cea-4845-a968-1bc61f438b73",
   "metadata": {},
   "outputs": [
    {
     "data": {
      "text/html": [
       "<div>\n",
       "<style scoped>\n",
       "    .dataframe tbody tr th:only-of-type {\n",
       "        vertical-align: middle;\n",
       "    }\n",
       "\n",
       "    .dataframe tbody tr th {\n",
       "        vertical-align: top;\n",
       "    }\n",
       "\n",
       "    .dataframe thead th {\n",
       "        text-align: right;\n",
       "    }\n",
       "</style>\n",
       "<table border=\"1\" class=\"dataframe\">\n",
       "  <thead>\n",
       "    <tr style=\"text-align: right;\">\n",
       "      <th></th>\n",
       "      <th>Catégorie</th>\n",
       "      <th>Titre</th>\n",
       "      <th>Prix</th>\n",
       "      <th>Note</th>\n",
       "      <th>Disponibilité</th>\n",
       "    </tr>\n",
       "  </thead>\n",
       "  <tbody>\n",
       "    <tr>\n",
       "      <th>0</th>\n",
       "      <td>travel</td>\n",
       "      <td>It's Only the Himalayas</td>\n",
       "      <td>£45.17</td>\n",
       "      <td>Two</td>\n",
       "      <td>In stock</td>\n",
       "    </tr>\n",
       "    <tr>\n",
       "      <th>1</th>\n",
       "      <td>travel</td>\n",
       "      <td>Full Moon over Noah’s Ark: An Odyssey to Mount...</td>\n",
       "      <td>£49.43</td>\n",
       "      <td>Four</td>\n",
       "      <td>In stock</td>\n",
       "    </tr>\n",
       "    <tr>\n",
       "      <th>2</th>\n",
       "      <td>travel</td>\n",
       "      <td>See America: A Celebration of Our National Par...</td>\n",
       "      <td>£48.87</td>\n",
       "      <td>Three</td>\n",
       "      <td>In stock</td>\n",
       "    </tr>\n",
       "    <tr>\n",
       "      <th>3</th>\n",
       "      <td>travel</td>\n",
       "      <td>Vagabonding: An Uncommon Guide to the Art of L...</td>\n",
       "      <td>£36.94</td>\n",
       "      <td>Two</td>\n",
       "      <td>In stock</td>\n",
       "    </tr>\n",
       "    <tr>\n",
       "      <th>4</th>\n",
       "      <td>travel</td>\n",
       "      <td>Under the Tuscan Sun</td>\n",
       "      <td>£37.33</td>\n",
       "      <td>Three</td>\n",
       "      <td>In stock</td>\n",
       "    </tr>\n",
       "  </tbody>\n",
       "</table>\n",
       "</div>"
      ],
      "text/plain": [
       "  Catégorie                                              Titre    Prix   Note  \\\n",
       "0    travel                            It's Only the Himalayas  £45.17    Two   \n",
       "1    travel  Full Moon over Noah’s Ark: An Odyssey to Mount...  £49.43   Four   \n",
       "2    travel  See America: A Celebration of Our National Par...  £48.87  Three   \n",
       "3    travel  Vagabonding: An Uncommon Guide to the Art of L...  £36.94    Two   \n",
       "4    travel                               Under the Tuscan Sun  £37.33  Three   \n",
       "\n",
       "  Disponibilité  \n",
       "0      In stock  \n",
       "1      In stock  \n",
       "2      In stock  \n",
       "3      In stock  \n",
       "4      In stock  "
      ]
     },
     "execution_count": 291,
     "metadata": {},
     "output_type": "execute_result"
    }
   ],
   "source": [
    "base_finale.head()"
   ]
  },
  {
   "cell_type": "markdown",
   "id": "ca08829a-9859-4796-bc18-dc2d8ba4f7a0",
   "metadata": {},
   "source": [
    "### Changer les valeurs de la colonne \"note\" par leur équivalent en chiffre\n",
    "\n",
    "Nous allons transformer les valeurs de la colonne note pour les avoir en chiffres afin de faciliter les interprétations futures."
   ]
  },
  {
   "cell_type": "code",
   "execution_count": 292,
   "id": "3a416d90-0c59-49f1-8dd7-ea8625452bed",
   "metadata": {},
   "outputs": [],
   "source": [
    "chiffre={ \"One\":1, \"Two\":2, \"Three\":3, \"Four\":4, \"Five\":5}\n",
    "\n",
    "base_finale[\"Note\"]=[chiffre[val] for val in base_finale[\"Note\"]]"
   ]
  },
  {
   "cell_type": "code",
   "execution_count": 293,
   "id": "6c15a344-75b5-43ba-b028-93648058695d",
   "metadata": {},
   "outputs": [
    {
     "data": {
      "text/html": [
       "<div>\n",
       "<style scoped>\n",
       "    .dataframe tbody tr th:only-of-type {\n",
       "        vertical-align: middle;\n",
       "    }\n",
       "\n",
       "    .dataframe tbody tr th {\n",
       "        vertical-align: top;\n",
       "    }\n",
       "\n",
       "    .dataframe thead th {\n",
       "        text-align: right;\n",
       "    }\n",
       "</style>\n",
       "<table border=\"1\" class=\"dataframe\">\n",
       "  <thead>\n",
       "    <tr style=\"text-align: right;\">\n",
       "      <th></th>\n",
       "      <th>Catégorie</th>\n",
       "      <th>Titre</th>\n",
       "      <th>Prix</th>\n",
       "      <th>Note</th>\n",
       "      <th>Disponibilité</th>\n",
       "    </tr>\n",
       "  </thead>\n",
       "  <tbody>\n",
       "    <tr>\n",
       "      <th>0</th>\n",
       "      <td>travel</td>\n",
       "      <td>It's Only the Himalayas</td>\n",
       "      <td>£45.17</td>\n",
       "      <td>2</td>\n",
       "      <td>In stock</td>\n",
       "    </tr>\n",
       "    <tr>\n",
       "      <th>1</th>\n",
       "      <td>travel</td>\n",
       "      <td>Full Moon over Noah’s Ark: An Odyssey to Mount...</td>\n",
       "      <td>£49.43</td>\n",
       "      <td>4</td>\n",
       "      <td>In stock</td>\n",
       "    </tr>\n",
       "    <tr>\n",
       "      <th>2</th>\n",
       "      <td>travel</td>\n",
       "      <td>See America: A Celebration of Our National Par...</td>\n",
       "      <td>£48.87</td>\n",
       "      <td>3</td>\n",
       "      <td>In stock</td>\n",
       "    </tr>\n",
       "    <tr>\n",
       "      <th>3</th>\n",
       "      <td>travel</td>\n",
       "      <td>Vagabonding: An Uncommon Guide to the Art of L...</td>\n",
       "      <td>£36.94</td>\n",
       "      <td>2</td>\n",
       "      <td>In stock</td>\n",
       "    </tr>\n",
       "    <tr>\n",
       "      <th>4</th>\n",
       "      <td>travel</td>\n",
       "      <td>Under the Tuscan Sun</td>\n",
       "      <td>£37.33</td>\n",
       "      <td>3</td>\n",
       "      <td>In stock</td>\n",
       "    </tr>\n",
       "  </tbody>\n",
       "</table>\n",
       "</div>"
      ],
      "text/plain": [
       "  Catégorie                                              Titre    Prix  Note  \\\n",
       "0    travel                            It's Only the Himalayas  £45.17     2   \n",
       "1    travel  Full Moon over Noah’s Ark: An Odyssey to Mount...  £49.43     4   \n",
       "2    travel  See America: A Celebration of Our National Par...  £48.87     3   \n",
       "3    travel  Vagabonding: An Uncommon Guide to the Art of L...  £36.94     2   \n",
       "4    travel                               Under the Tuscan Sun  £37.33     3   \n",
       "\n",
       "  Disponibilité  \n",
       "0      In stock  \n",
       "1      In stock  \n",
       "2      In stock  \n",
       "3      In stock  \n",
       "4      In stock  "
      ]
     },
     "execution_count": 293,
     "metadata": {},
     "output_type": "execute_result"
    }
   ],
   "source": [
    "base_finale.head()"
   ]
  },
  {
   "cell_type": "markdown",
   "id": "1de3c2f0-eed8-4c23-b013-11356183c1ca",
   "metadata": {},
   "source": [
    "### Convertir les prix pour qu'ils soient tous de la même unité\n",
    "\n",
    "Certains prix sont en euros et d'autres en pounds. Nous devons donc les convertir pour qu'ils aient tous la même unité pour pouvoir faire la comparaison"
   ]
  },
  {
   "cell_type": "code",
   "execution_count": 297,
   "id": "1aa7e82a-c060-4d0f-be06-99776d677e00",
   "metadata": {},
   "outputs": [],
   "source": [
    "#créer une fonction qui garde les nombres\n",
    "def prix_val (prix):\n",
    "    return re.sub(r'[^\\d.]','',prix)\n",
    "#Une autre qui garde la devise\n",
    "def prix_devise(prix):\n",
    "    return re.sub(r'[0-9.]','',prix)\n",
    "\n",
    "#Créer les variables séparées de la valeur et de la devise   \n",
    "for i in range (0, len(base_finale)):\n",
    "    base_finale.loc[i,\"Prix_euro\"]=prix_val(base_finale.loc[i,\"Prix\"])\n",
    "    base_finale.loc[i,\"devises\"]=prix_devise(base_finale.loc[i,\"Prix\"])\n",
    "\n",
    "#Convertir le type de la colonne des valeurs\n",
    "base_finale[\"Prix_euro\"]=base_finale[\"Prix_euro\"].astype(float)\n",
    "\n",
    "#Calculer l'équivalent en euro\n",
    "for i in range (0, len(base_finale)):\n",
    "    if (base_finale.loc[i,\"devises\"]==\"£\"):\n",
    "        base_finale.loc[i,\"Prix_euro\"]=round(int(base_finale.loc[i,\"Prix_euro\"])/0.86,2)\n",
    "\n",
    "base_finale=base_finale.drop(columns=[\"devises\"])"
   ]
  },
  {
   "cell_type": "code",
   "execution_count": 298,
   "id": "58e2b30d-7e77-4ec6-9353-d87140bf17a9",
   "metadata": {},
   "outputs": [
    {
     "data": {
      "text/html": [
       "<div>\n",
       "<style scoped>\n",
       "    .dataframe tbody tr th:only-of-type {\n",
       "        vertical-align: middle;\n",
       "    }\n",
       "\n",
       "    .dataframe tbody tr th {\n",
       "        vertical-align: top;\n",
       "    }\n",
       "\n",
       "    .dataframe thead th {\n",
       "        text-align: right;\n",
       "    }\n",
       "</style>\n",
       "<table border=\"1\" class=\"dataframe\">\n",
       "  <thead>\n",
       "    <tr style=\"text-align: right;\">\n",
       "      <th></th>\n",
       "      <th>Catégorie</th>\n",
       "      <th>Titre</th>\n",
       "      <th>Prix</th>\n",
       "      <th>Note</th>\n",
       "      <th>Disponibilité</th>\n",
       "      <th>Prix_euro</th>\n",
       "    </tr>\n",
       "  </thead>\n",
       "  <tbody>\n",
       "    <tr>\n",
       "      <th>0</th>\n",
       "      <td>travel</td>\n",
       "      <td>It's Only the Himalayas</td>\n",
       "      <td>£45.17</td>\n",
       "      <td>2</td>\n",
       "      <td>In stock</td>\n",
       "      <td>52.33</td>\n",
       "    </tr>\n",
       "    <tr>\n",
       "      <th>1</th>\n",
       "      <td>travel</td>\n",
       "      <td>Full Moon over Noah’s Ark: An Odyssey to Mount...</td>\n",
       "      <td>£49.43</td>\n",
       "      <td>4</td>\n",
       "      <td>In stock</td>\n",
       "      <td>56.98</td>\n",
       "    </tr>\n",
       "    <tr>\n",
       "      <th>2</th>\n",
       "      <td>travel</td>\n",
       "      <td>See America: A Celebration of Our National Par...</td>\n",
       "      <td>£48.87</td>\n",
       "      <td>3</td>\n",
       "      <td>In stock</td>\n",
       "      <td>55.81</td>\n",
       "    </tr>\n",
       "    <tr>\n",
       "      <th>3</th>\n",
       "      <td>travel</td>\n",
       "      <td>Vagabonding: An Uncommon Guide to the Art of L...</td>\n",
       "      <td>£36.94</td>\n",
       "      <td>2</td>\n",
       "      <td>In stock</td>\n",
       "      <td>41.86</td>\n",
       "    </tr>\n",
       "    <tr>\n",
       "      <th>4</th>\n",
       "      <td>travel</td>\n",
       "      <td>Under the Tuscan Sun</td>\n",
       "      <td>£37.33</td>\n",
       "      <td>3</td>\n",
       "      <td>In stock</td>\n",
       "      <td>43.02</td>\n",
       "    </tr>\n",
       "  </tbody>\n",
       "</table>\n",
       "</div>"
      ],
      "text/plain": [
       "  Catégorie                                              Titre    Prix  Note  \\\n",
       "0    travel                            It's Only the Himalayas  £45.17     2   \n",
       "1    travel  Full Moon over Noah’s Ark: An Odyssey to Mount...  £49.43     4   \n",
       "2    travel  See America: A Celebration of Our National Par...  £48.87     3   \n",
       "3    travel  Vagabonding: An Uncommon Guide to the Art of L...  £36.94     2   \n",
       "4    travel                               Under the Tuscan Sun  £37.33     3   \n",
       "\n",
       "  Disponibilité  Prix_euro  \n",
       "0      In stock      52.33  \n",
       "1      In stock      56.98  \n",
       "2      In stock      55.81  \n",
       "3      In stock      41.86  \n",
       "4      In stock      43.02  "
      ]
     },
     "execution_count": 298,
     "metadata": {},
     "output_type": "execute_result"
    }
   ],
   "source": [
    "base_finale.head()"
   ]
  },
  {
   "cell_type": "code",
   "execution_count": 300,
   "id": "27f61204-7804-4efc-988d-a24de3d427e9",
   "metadata": {},
   "outputs": [
    {
     "ename": "PermissionError",
     "evalue": "[Errno 13] Permission denied: 'C:/Users/lenovo/Desktop/Projet Ml2'",
     "output_type": "error",
     "traceback": [
      "\u001b[1;31m---------------------------------------------------------------------------\u001b[0m",
      "\u001b[1;31mPermissionError\u001b[0m                           Traceback (most recent call last)",
      "Cell \u001b[1;32mIn[300], line 1\u001b[0m\n\u001b[1;32m----> 1\u001b[0m \u001b[43mbase_finale\u001b[49m\u001b[38;5;241;43m.\u001b[39;49m\u001b[43mto_csv\u001b[49m\u001b[43m(\u001b[49m\u001b[38;5;124;43m\"\u001b[39;49m\u001b[38;5;124;43mC:/Users/lenovo/Desktop/Projet Ml2\u001b[39;49m\u001b[38;5;124;43m\"\u001b[39;49m\u001b[43m)\u001b[49m\n",
      "File \u001b[1;32m~\\.conda\\envs\\pyenv310\\lib\\site-packages\\pandas\\util\\_decorators.py:211\u001b[0m, in \u001b[0;36mdeprecate_kwarg.<locals>._deprecate_kwarg.<locals>.wrapper\u001b[1;34m(*args, **kwargs)\u001b[0m\n\u001b[0;32m    209\u001b[0m     \u001b[38;5;28;01melse\u001b[39;00m:\n\u001b[0;32m    210\u001b[0m         kwargs[new_arg_name] \u001b[38;5;241m=\u001b[39m new_arg_value\n\u001b[1;32m--> 211\u001b[0m \u001b[38;5;28;01mreturn\u001b[39;00m func(\u001b[38;5;241m*\u001b[39margs, \u001b[38;5;241m*\u001b[39m\u001b[38;5;241m*\u001b[39mkwargs)\n",
      "File \u001b[1;32m~\\.conda\\envs\\pyenv310\\lib\\site-packages\\pandas\\core\\generic.py:3720\u001b[0m, in \u001b[0;36mNDFrame.to_csv\u001b[1;34m(self, path_or_buf, sep, na_rep, float_format, columns, header, index, index_label, mode, encoding, compression, quoting, quotechar, lineterminator, chunksize, date_format, doublequote, escapechar, decimal, errors, storage_options)\u001b[0m\n\u001b[0;32m   3709\u001b[0m df \u001b[38;5;241m=\u001b[39m \u001b[38;5;28mself\u001b[39m \u001b[38;5;28;01mif\u001b[39;00m \u001b[38;5;28misinstance\u001b[39m(\u001b[38;5;28mself\u001b[39m, ABCDataFrame) \u001b[38;5;28;01melse\u001b[39;00m \u001b[38;5;28mself\u001b[39m\u001b[38;5;241m.\u001b[39mto_frame()\n\u001b[0;32m   3711\u001b[0m formatter \u001b[38;5;241m=\u001b[39m DataFrameFormatter(\n\u001b[0;32m   3712\u001b[0m     frame\u001b[38;5;241m=\u001b[39mdf,\n\u001b[0;32m   3713\u001b[0m     header\u001b[38;5;241m=\u001b[39mheader,\n\u001b[1;32m   (...)\u001b[0m\n\u001b[0;32m   3717\u001b[0m     decimal\u001b[38;5;241m=\u001b[39mdecimal,\n\u001b[0;32m   3718\u001b[0m )\n\u001b[1;32m-> 3720\u001b[0m \u001b[38;5;28;01mreturn\u001b[39;00m \u001b[43mDataFrameRenderer\u001b[49m\u001b[43m(\u001b[49m\u001b[43mformatter\u001b[49m\u001b[43m)\u001b[49m\u001b[38;5;241;43m.\u001b[39;49m\u001b[43mto_csv\u001b[49m\u001b[43m(\u001b[49m\n\u001b[0;32m   3721\u001b[0m \u001b[43m    \u001b[49m\u001b[43mpath_or_buf\u001b[49m\u001b[43m,\u001b[49m\n\u001b[0;32m   3722\u001b[0m \u001b[43m    \u001b[49m\u001b[43mlineterminator\u001b[49m\u001b[38;5;241;43m=\u001b[39;49m\u001b[43mlineterminator\u001b[49m\u001b[43m,\u001b[49m\n\u001b[0;32m   3723\u001b[0m \u001b[43m    \u001b[49m\u001b[43msep\u001b[49m\u001b[38;5;241;43m=\u001b[39;49m\u001b[43msep\u001b[49m\u001b[43m,\u001b[49m\n\u001b[0;32m   3724\u001b[0m \u001b[43m    \u001b[49m\u001b[43mencoding\u001b[49m\u001b[38;5;241;43m=\u001b[39;49m\u001b[43mencoding\u001b[49m\u001b[43m,\u001b[49m\n\u001b[0;32m   3725\u001b[0m \u001b[43m    \u001b[49m\u001b[43merrors\u001b[49m\u001b[38;5;241;43m=\u001b[39;49m\u001b[43merrors\u001b[49m\u001b[43m,\u001b[49m\n\u001b[0;32m   3726\u001b[0m \u001b[43m    \u001b[49m\u001b[43mcompression\u001b[49m\u001b[38;5;241;43m=\u001b[39;49m\u001b[43mcompression\u001b[49m\u001b[43m,\u001b[49m\n\u001b[0;32m   3727\u001b[0m \u001b[43m    \u001b[49m\u001b[43mquoting\u001b[49m\u001b[38;5;241;43m=\u001b[39;49m\u001b[43mquoting\u001b[49m\u001b[43m,\u001b[49m\n\u001b[0;32m   3728\u001b[0m \u001b[43m    \u001b[49m\u001b[43mcolumns\u001b[49m\u001b[38;5;241;43m=\u001b[39;49m\u001b[43mcolumns\u001b[49m\u001b[43m,\u001b[49m\n\u001b[0;32m   3729\u001b[0m \u001b[43m    \u001b[49m\u001b[43mindex_label\u001b[49m\u001b[38;5;241;43m=\u001b[39;49m\u001b[43mindex_label\u001b[49m\u001b[43m,\u001b[49m\n\u001b[0;32m   3730\u001b[0m \u001b[43m    \u001b[49m\u001b[43mmode\u001b[49m\u001b[38;5;241;43m=\u001b[39;49m\u001b[43mmode\u001b[49m\u001b[43m,\u001b[49m\n\u001b[0;32m   3731\u001b[0m \u001b[43m    \u001b[49m\u001b[43mchunksize\u001b[49m\u001b[38;5;241;43m=\u001b[39;49m\u001b[43mchunksize\u001b[49m\u001b[43m,\u001b[49m\n\u001b[0;32m   3732\u001b[0m \u001b[43m    \u001b[49m\u001b[43mquotechar\u001b[49m\u001b[38;5;241;43m=\u001b[39;49m\u001b[43mquotechar\u001b[49m\u001b[43m,\u001b[49m\n\u001b[0;32m   3733\u001b[0m \u001b[43m    \u001b[49m\u001b[43mdate_format\u001b[49m\u001b[38;5;241;43m=\u001b[39;49m\u001b[43mdate_format\u001b[49m\u001b[43m,\u001b[49m\n\u001b[0;32m   3734\u001b[0m \u001b[43m    \u001b[49m\u001b[43mdoublequote\u001b[49m\u001b[38;5;241;43m=\u001b[39;49m\u001b[43mdoublequote\u001b[49m\u001b[43m,\u001b[49m\n\u001b[0;32m   3735\u001b[0m \u001b[43m    \u001b[49m\u001b[43mescapechar\u001b[49m\u001b[38;5;241;43m=\u001b[39;49m\u001b[43mescapechar\u001b[49m\u001b[43m,\u001b[49m\n\u001b[0;32m   3736\u001b[0m \u001b[43m    \u001b[49m\u001b[43mstorage_options\u001b[49m\u001b[38;5;241;43m=\u001b[39;49m\u001b[43mstorage_options\u001b[49m\u001b[43m,\u001b[49m\n\u001b[0;32m   3737\u001b[0m \u001b[43m\u001b[49m\u001b[43m)\u001b[49m\n",
      "File \u001b[1;32m~\\.conda\\envs\\pyenv310\\lib\\site-packages\\pandas\\util\\_decorators.py:211\u001b[0m, in \u001b[0;36mdeprecate_kwarg.<locals>._deprecate_kwarg.<locals>.wrapper\u001b[1;34m(*args, **kwargs)\u001b[0m\n\u001b[0;32m    209\u001b[0m     \u001b[38;5;28;01melse\u001b[39;00m:\n\u001b[0;32m    210\u001b[0m         kwargs[new_arg_name] \u001b[38;5;241m=\u001b[39m new_arg_value\n\u001b[1;32m--> 211\u001b[0m \u001b[38;5;28;01mreturn\u001b[39;00m func(\u001b[38;5;241m*\u001b[39margs, \u001b[38;5;241m*\u001b[39m\u001b[38;5;241m*\u001b[39mkwargs)\n",
      "File \u001b[1;32m~\\.conda\\envs\\pyenv310\\lib\\site-packages\\pandas\\io\\formats\\format.py:1189\u001b[0m, in \u001b[0;36mDataFrameRenderer.to_csv\u001b[1;34m(self, path_or_buf, encoding, sep, columns, index_label, mode, compression, quoting, quotechar, lineterminator, chunksize, date_format, doublequote, escapechar, errors, storage_options)\u001b[0m\n\u001b[0;32m   1168\u001b[0m     created_buffer \u001b[38;5;241m=\u001b[39m \u001b[38;5;28;01mFalse\u001b[39;00m\n\u001b[0;32m   1170\u001b[0m csv_formatter \u001b[38;5;241m=\u001b[39m CSVFormatter(\n\u001b[0;32m   1171\u001b[0m     path_or_buf\u001b[38;5;241m=\u001b[39mpath_or_buf,\n\u001b[0;32m   1172\u001b[0m     lineterminator\u001b[38;5;241m=\u001b[39mlineterminator,\n\u001b[1;32m   (...)\u001b[0m\n\u001b[0;32m   1187\u001b[0m     formatter\u001b[38;5;241m=\u001b[39m\u001b[38;5;28mself\u001b[39m\u001b[38;5;241m.\u001b[39mfmt,\n\u001b[0;32m   1188\u001b[0m )\n\u001b[1;32m-> 1189\u001b[0m \u001b[43mcsv_formatter\u001b[49m\u001b[38;5;241;43m.\u001b[39;49m\u001b[43msave\u001b[49m\u001b[43m(\u001b[49m\u001b[43m)\u001b[49m\n\u001b[0;32m   1191\u001b[0m \u001b[38;5;28;01mif\u001b[39;00m created_buffer:\n\u001b[0;32m   1192\u001b[0m     \u001b[38;5;28;01massert\u001b[39;00m \u001b[38;5;28misinstance\u001b[39m(path_or_buf, StringIO)\n",
      "File \u001b[1;32m~\\.conda\\envs\\pyenv310\\lib\\site-packages\\pandas\\io\\formats\\csvs.py:241\u001b[0m, in \u001b[0;36mCSVFormatter.save\u001b[1;34m(self)\u001b[0m\n\u001b[0;32m    237\u001b[0m \u001b[38;5;250m\u001b[39m\u001b[38;5;124;03m\"\"\"\u001b[39;00m\n\u001b[0;32m    238\u001b[0m \u001b[38;5;124;03mCreate the writer & save.\u001b[39;00m\n\u001b[0;32m    239\u001b[0m \u001b[38;5;124;03m\"\"\"\u001b[39;00m\n\u001b[0;32m    240\u001b[0m \u001b[38;5;66;03m# apply compression and byte/text conversion\u001b[39;00m\n\u001b[1;32m--> 241\u001b[0m \u001b[38;5;28;01mwith\u001b[39;00m \u001b[43mget_handle\u001b[49m\u001b[43m(\u001b[49m\n\u001b[0;32m    242\u001b[0m \u001b[43m    \u001b[49m\u001b[38;5;28;43mself\u001b[39;49m\u001b[38;5;241;43m.\u001b[39;49m\u001b[43mfilepath_or_buffer\u001b[49m\u001b[43m,\u001b[49m\n\u001b[0;32m    243\u001b[0m \u001b[43m    \u001b[49m\u001b[38;5;28;43mself\u001b[39;49m\u001b[38;5;241;43m.\u001b[39;49m\u001b[43mmode\u001b[49m\u001b[43m,\u001b[49m\n\u001b[0;32m    244\u001b[0m \u001b[43m    \u001b[49m\u001b[43mencoding\u001b[49m\u001b[38;5;241;43m=\u001b[39;49m\u001b[38;5;28;43mself\u001b[39;49m\u001b[38;5;241;43m.\u001b[39;49m\u001b[43mencoding\u001b[49m\u001b[43m,\u001b[49m\n\u001b[0;32m    245\u001b[0m \u001b[43m    \u001b[49m\u001b[43merrors\u001b[49m\u001b[38;5;241;43m=\u001b[39;49m\u001b[38;5;28;43mself\u001b[39;49m\u001b[38;5;241;43m.\u001b[39;49m\u001b[43merrors\u001b[49m\u001b[43m,\u001b[49m\n\u001b[0;32m    246\u001b[0m \u001b[43m    \u001b[49m\u001b[43mcompression\u001b[49m\u001b[38;5;241;43m=\u001b[39;49m\u001b[38;5;28;43mself\u001b[39;49m\u001b[38;5;241;43m.\u001b[39;49m\u001b[43mcompression\u001b[49m\u001b[43m,\u001b[49m\n\u001b[0;32m    247\u001b[0m \u001b[43m    \u001b[49m\u001b[43mstorage_options\u001b[49m\u001b[38;5;241;43m=\u001b[39;49m\u001b[38;5;28;43mself\u001b[39;49m\u001b[38;5;241;43m.\u001b[39;49m\u001b[43mstorage_options\u001b[49m\u001b[43m,\u001b[49m\n\u001b[0;32m    248\u001b[0m \u001b[43m\u001b[49m\u001b[43m)\u001b[49m \u001b[38;5;28;01mas\u001b[39;00m handles:\n\u001b[0;32m    249\u001b[0m \n\u001b[0;32m    250\u001b[0m     \u001b[38;5;66;03m# Note: self.encoding is irrelevant here\u001b[39;00m\n\u001b[0;32m    251\u001b[0m     \u001b[38;5;28mself\u001b[39m\u001b[38;5;241m.\u001b[39mwriter \u001b[38;5;241m=\u001b[39m csvlib\u001b[38;5;241m.\u001b[39mwriter(\n\u001b[0;32m    252\u001b[0m         handles\u001b[38;5;241m.\u001b[39mhandle,\n\u001b[0;32m    253\u001b[0m         lineterminator\u001b[38;5;241m=\u001b[39m\u001b[38;5;28mself\u001b[39m\u001b[38;5;241m.\u001b[39mlineterminator,\n\u001b[1;32m   (...)\u001b[0m\n\u001b[0;32m    258\u001b[0m         quotechar\u001b[38;5;241m=\u001b[39m\u001b[38;5;28mself\u001b[39m\u001b[38;5;241m.\u001b[39mquotechar,\n\u001b[0;32m    259\u001b[0m     )\n\u001b[0;32m    261\u001b[0m     \u001b[38;5;28mself\u001b[39m\u001b[38;5;241m.\u001b[39m_save()\n",
      "File \u001b[1;32m~\\.conda\\envs\\pyenv310\\lib\\site-packages\\pandas\\io\\common.py:856\u001b[0m, in \u001b[0;36mget_handle\u001b[1;34m(path_or_buf, mode, encoding, compression, memory_map, is_text, errors, storage_options)\u001b[0m\n\u001b[0;32m    851\u001b[0m \u001b[38;5;28;01melif\u001b[39;00m \u001b[38;5;28misinstance\u001b[39m(handle, \u001b[38;5;28mstr\u001b[39m):\n\u001b[0;32m    852\u001b[0m     \u001b[38;5;66;03m# Check whether the filename is to be opened in binary mode.\u001b[39;00m\n\u001b[0;32m    853\u001b[0m     \u001b[38;5;66;03m# Binary mode does not support 'encoding' and 'newline'.\u001b[39;00m\n\u001b[0;32m    854\u001b[0m     \u001b[38;5;28;01mif\u001b[39;00m ioargs\u001b[38;5;241m.\u001b[39mencoding \u001b[38;5;129;01mand\u001b[39;00m \u001b[38;5;124m\"\u001b[39m\u001b[38;5;124mb\u001b[39m\u001b[38;5;124m\"\u001b[39m \u001b[38;5;129;01mnot\u001b[39;00m \u001b[38;5;129;01min\u001b[39;00m ioargs\u001b[38;5;241m.\u001b[39mmode:\n\u001b[0;32m    855\u001b[0m         \u001b[38;5;66;03m# Encoding\u001b[39;00m\n\u001b[1;32m--> 856\u001b[0m         handle \u001b[38;5;241m=\u001b[39m \u001b[38;5;28;43mopen\u001b[39;49m\u001b[43m(\u001b[49m\n\u001b[0;32m    857\u001b[0m \u001b[43m            \u001b[49m\u001b[43mhandle\u001b[49m\u001b[43m,\u001b[49m\n\u001b[0;32m    858\u001b[0m \u001b[43m            \u001b[49m\u001b[43mioargs\u001b[49m\u001b[38;5;241;43m.\u001b[39;49m\u001b[43mmode\u001b[49m\u001b[43m,\u001b[49m\n\u001b[0;32m    859\u001b[0m \u001b[43m            \u001b[49m\u001b[43mencoding\u001b[49m\u001b[38;5;241;43m=\u001b[39;49m\u001b[43mioargs\u001b[49m\u001b[38;5;241;43m.\u001b[39;49m\u001b[43mencoding\u001b[49m\u001b[43m,\u001b[49m\n\u001b[0;32m    860\u001b[0m \u001b[43m            \u001b[49m\u001b[43merrors\u001b[49m\u001b[38;5;241;43m=\u001b[39;49m\u001b[43merrors\u001b[49m\u001b[43m,\u001b[49m\n\u001b[0;32m    861\u001b[0m \u001b[43m            \u001b[49m\u001b[43mnewline\u001b[49m\u001b[38;5;241;43m=\u001b[39;49m\u001b[38;5;124;43m\"\u001b[39;49m\u001b[38;5;124;43m\"\u001b[39;49m\u001b[43m,\u001b[49m\n\u001b[0;32m    862\u001b[0m \u001b[43m        \u001b[49m\u001b[43m)\u001b[49m\n\u001b[0;32m    863\u001b[0m     \u001b[38;5;28;01melse\u001b[39;00m:\n\u001b[0;32m    864\u001b[0m         \u001b[38;5;66;03m# Binary mode\u001b[39;00m\n\u001b[0;32m    865\u001b[0m         handle \u001b[38;5;241m=\u001b[39m \u001b[38;5;28mopen\u001b[39m(handle, ioargs\u001b[38;5;241m.\u001b[39mmode)\n",
      "\u001b[1;31mPermissionError\u001b[0m: [Errno 13] Permission denied: 'C:/Users/lenovo/Desktop/Projet Ml2'"
     ]
    }
   ],
   "source": [
    "base_finale.to_csv(\"C:/Users/lenovo/Desktop/Projet Ml2\")"
   ]
  },
  {
   "cell_type": "code",
   "execution_count": null,
   "id": "3d16c802-f919-443b-a991-cb8fabf03d50",
   "metadata": {},
   "outputs": [],
   "source": []
  }
 ],
 "metadata": {
  "kernelspec": {
   "display_name": "Python 3 (ipykernel)",
   "language": "python",
   "name": "python3"
  },
  "language_info": {
   "codemirror_mode": {
    "name": "ipython",
    "version": 3
   },
   "file_extension": ".py",
   "mimetype": "text/x-python",
   "name": "python",
   "nbconvert_exporter": "python",
   "pygments_lexer": "ipython3",
   "version": "3.10.11"
  }
 },
 "nbformat": 4,
 "nbformat_minor": 5
}
